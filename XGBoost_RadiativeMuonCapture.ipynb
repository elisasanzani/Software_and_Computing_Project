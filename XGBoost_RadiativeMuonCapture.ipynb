{
<<<<<<< HEAD
 "cells": [
  {
   "cell_type": "markdown",
   "metadata": {
    "colab_type": "text",
    "id": "view-in-github"
   },
   "source": [
    "<a href=\"https://colab.research.google.com/github/elisasanzani/Software_and_Computing_Project/blob/main/XGBoost_RadiativeMuonCapture.ipynb\" target=\"_parent\"><img src=\"https://colab.research.google.com/assets/colab-badge.svg\" alt=\"Open In Colab\"/></a>"
   ]
  },
  {
   "cell_type": "code",
   "execution_count": null,
   "metadata": {
    "id": "bo2q6brkjfXB"
   },
   "outputs": [],
   "source": []
  }
 ],
 "metadata": {
  "colab": {
   "authorship_tag": "ABX9TyM/XpvUaJwqwRod4ZMZdZ5P",
   "include_colab_link": true,
   "name": "Untitled0.ipynb",
   "provenance": []
  },
  "kernelspec": {
   "display_name": "Python 3 (ipykernel)",
   "language": "python",
   "name": "python3"
  },
  "language_info": {
   "codemirror_mode": {
    "name": "ipython",
    "version": 3
   },
   "file_extension": ".py",
   "mimetype": "text/x-python",
   "name": "python",
   "nbconvert_exporter": "python",
   "pygments_lexer": "ipython3",
   "version": "3.9.9"
  }
 },
 "nbformat": 4,
 "nbformat_minor": 1
}
=======
  "nbformat": 4,
  "nbformat_minor": 0,
  "metadata": {
    "colab": {
      "name": "XGBoost_RadiativeMuonCapture.ipynb",
      "provenance": [],
      "collapsed_sections": [],
      "authorship_tag": "ABX9TyOgwoehqcWmH5nyWNyMAegl",
      "include_colab_link": true
    },
    "kernelspec": {
      "name": "python3",
      "display_name": "Python 3"
    },
    "language_info": {
      "name": "python"
    },
    "accelerator": "GPU",
    "gpuClass": "standard"
  },
  "cells": [
    {
      "cell_type": "markdown",
      "metadata": {
        "id": "view-in-github",
        "colab_type": "text"
      },
      "source": [
        "<a href=\"https://colab.research.google.com/github/elisasanzani/Software_and_Computing_Project/blob/main/XGBoost_RadiativeMuonCapture.ipynb\" target=\"_parent\"><img src=\"https://colab.research.google.com/assets/colab-badge.svg\" alt=\"Open In Colab\"/></a>"
      ]
    },
    {
      "cell_type": "code",
      "execution_count": 1,
      "metadata": {
        "id": "bo2q6brkjfXB",
        "colab": {
          "base_uri": "https://localhost:8080/"
        },
        "cellView": "form",
        "outputId": "c9ea0bd4-1ed3-4963-d351-cfaa9a189743"
      },
      "outputs": [
        {
          "output_type": "stream",
          "name": "stdout",
          "text": [
            "Mon Aug  1 19:22:34 2022       \n",
            "+-----------------------------------------------------------------------------+\n",
            "| NVIDIA-SMI 460.32.03    Driver Version: 460.32.03    CUDA Version: 11.2     |\n",
            "|-------------------------------+----------------------+----------------------+\n",
            "| GPU  Name        Persistence-M| Bus-Id        Disp.A | Volatile Uncorr. ECC |\n",
            "| Fan  Temp  Perf  Pwr:Usage/Cap|         Memory-Usage | GPU-Util  Compute M. |\n",
            "|                               |                      |               MIG M. |\n",
            "|===============================+======================+======================|\n",
            "|   0  Tesla T4            Off  | 00000000:00:04.0 Off |                    0 |\n",
            "| N/A   47C    P8     9W /  70W |      0MiB / 15109MiB |      0%      Default |\n",
            "|                               |                      |                  N/A |\n",
            "+-------------------------------+----------------------+----------------------+\n",
            "                                                                               \n",
            "+-----------------------------------------------------------------------------+\n",
            "| Processes:                                                                  |\n",
            "|  GPU   GI   CI        PID   Type   Process name                  GPU Memory |\n",
            "|        ID   ID                                                   Usage      |\n",
            "|=============================================================================|\n",
            "|  No running processes found                                                 |\n",
            "+-----------------------------------------------------------------------------+\n"
          ]
        }
      ],
      "source": [
        "#@title Preliminary setup\n",
        "import numpy as np\n",
        "import os\n",
        "import xgboost as xgb\n",
        "import time\n",
        "\n",
        "import matplotlib.pyplot as plt\n",
        "from sklearn.metrics import precision_recall_curve, auc\n",
        "from sklearn.model_selection import train_test_split\n",
        "\n",
        "np.random.seed() # shuffle random seed generator\n",
        "\n",
        "!nvidia-smi"
      ]
    },
    {
      "cell_type": "code",
      "source": [
        "#@title Import data from GitHub\n",
        "\n",
        "\n",
        "!wget https://github.com/elisasanzani/Software_and_Computing_Project/raw/main/bkg_etrn.npy -O bkg_etrn.npy \n",
        "!wget https://github.com/elisasanzani/Software_and_Computing_Project/raw/main/signal_etrn.npy -O signal_etrn.npy"
      ],
      "metadata": {
        "colab": {
          "base_uri": "https://localhost:8080/"
        },
        "id": "Vhb19QtpkmwQ",
        "outputId": "be7fff46-2178-4a44-ff8a-d09d4ffe6a81"
      },
      "execution_count": 10,
      "outputs": [
        {
          "output_type": "stream",
          "name": "stdout",
          "text": [
            "--2022-08-01 19:30:12--  https://github.com/elisasanzani/Software_and_Computing_Project/raw/main/bkg_etrn.npy\n",
            "Resolving github.com (github.com)... 20.205.243.166\n",
            "Connecting to github.com (github.com)|20.205.243.166|:443... connected.\n",
            "HTTP request sent, awaiting response... 302 Found\n",
            "Location: https://raw.githubusercontent.com/elisasanzani/Software_and_Computing_Project/main/bkg_etrn.npy [following]\n",
            "--2022-08-01 19:30:12--  https://raw.githubusercontent.com/elisasanzani/Software_and_Computing_Project/main/bkg_etrn.npy\n",
            "Resolving raw.githubusercontent.com (raw.githubusercontent.com)... 185.199.108.133, 185.199.109.133, 185.199.110.133, ...\n",
            "Connecting to raw.githubusercontent.com (raw.githubusercontent.com)|185.199.108.133|:443... connected.\n",
            "HTTP request sent, awaiting response... 200 OK\n",
            "Length: 4879568 (4.7M) [application/octet-stream]\n",
            "Saving to: ‘bkg_etrn.npy’\n",
            "\n",
            "\rbkg_etrn.npy          0%[                    ]       0  --.-KB/s               \rbkg_etrn.npy        100%[===================>]   4.65M  --.-KB/s    in 0.02s   \n",
            "\n",
            "2022-08-01 19:30:12 (301 MB/s) - ‘bkg_etrn.npy’ saved [4879568/4879568]\n",
            "\n",
            "--2022-08-01 19:30:12--  https://github.com/elisasanzani/Software_and_Computing_Project/raw/main/signal_etrn.npy\n",
            "Resolving github.com (github.com)... 20.205.243.166\n",
            "Connecting to github.com (github.com)|20.205.243.166|:443... connected.\n",
            "HTTP request sent, awaiting response... 302 Found\n",
            "Location: https://raw.githubusercontent.com/elisasanzani/Software_and_Computing_Project/main/signal_etrn.npy [following]\n",
            "--2022-08-01 19:30:13--  https://raw.githubusercontent.com/elisasanzani/Software_and_Computing_Project/main/signal_etrn.npy\n",
            "Resolving raw.githubusercontent.com (raw.githubusercontent.com)... 185.199.109.133, 185.199.110.133, 185.199.111.133, ...\n",
            "Connecting to raw.githubusercontent.com (raw.githubusercontent.com)|185.199.109.133|:443... connected.\n",
            "HTTP request sent, awaiting response... 200 OK\n",
            "Length: 6203600 (5.9M) [application/octet-stream]\n",
            "Saving to: ‘signal_etrn.npy’\n",
            "\n",
            "signal_etrn.npy     100%[===================>]   5.92M  --.-KB/s    in 0.02s   \n",
            "\n",
            "2022-08-01 19:30:15 (341 MB/s) - ‘signal_etrn.npy’ saved [6203600/6203600]\n",
            "\n"
          ]
        }
      ]
    },
    {
      "cell_type": "code",
      "source": [
        "signal_numpy_data = np.load(\"signal_etrn.npy\")\n",
        "bkg_numpy_data = np.load(\"bkg_etrn.npy\")\n",
        "\n",
        "X = np.concatenate((signal_numpy_data, bkg_numpy_data))\n",
        "Y = np.concatenate((np.ones(len(signal_numpy_data)), np.zeros(len(bkg_numpy_data))))\n",
        "\n",
        "signal_weight = 330/150e3 * 100\n",
        "mnbs_weight = 1.3/5.25 * 100\n",
        "W = np.concatenate([ np.ones((len(signal_numpy_data)))*signal_weight, np.ones((len(bkg_numpy_data)))*mnbs_weight ])\n",
        "\n",
        "print(f\"X shape: {X.shape}\")\n",
        "print(f\"Y shape: {Y.shape}\")"
      ],
      "metadata": {
        "colab": {
          "base_uri": "https://localhost:8080/"
        },
        "id": "dfr8sDry1_Hw",
        "outputId": "e9e6b80f-f8a4-4a30-b971-cda7f5a7393c"
      },
      "execution_count": 11,
      "outputs": [
        {
          "output_type": "stream",
          "name": "stdout",
          "text": [
            "X shape: (302696, 4)\n",
            "Y shape: (302696,)\n"
          ]
        }
      ]
    }
  ]
}
>>>>>>> 77f35b27adebbdfee81fc4a159a64929baa108d2

{
  "cells": [
    {
      "cell_type": "markdown",
      "metadata": {
        "id": "view-in-github",
        "colab_type": "text"
      },
      "source": [
        "<a href=\"https://colab.research.google.com/github/elisasanzani/Software_and_Computing_Project/blob/main/PNet_RMC_main.ipynb\" target=\"_parent\"><img src=\"https://colab.research.google.com/assets/colab-badge.svg\" alt=\"Open In Colab\"/></a>"
      ]
    },
    {
      "cell_type": "markdown",
      "metadata": {
        "id": "37uU1zmzDZ0d"
      },
      "source": [
        "# **Particle Net Lite Custom DG-CNN**"
      ]
    },
    {
      "cell_type": "code",
      "execution_count": null,
      "metadata": {
        "id": "LiaWlth9DxWr"
      },
      "outputs": [],
      "source": [
        "import logging\n",
        "logging.basicConfig(level=logging.INFO, format='[%(asctime)s] %(levelname)s: %(message)s')\n",
        "import os\n",
        "import numpy as np\n",
        "from sklearn.metrics import precision_recall_curve, auc\n",
        "import matplotlib.pyplot as plt"
      ]
    },
    {
      "cell_type": "markdown",
      "metadata": {
        "id": "k4jHYYysHSVm"
      },
      "source": [
        "Data is downloaded in one go from Dropbox for simplicity. \n",
        "Unzipped version available in [main/data-PNet](https://github.com/elisasanzani/Software_and_Computing_Project/tree/main/data-PNet)"
      ]
    },
    {
      "cell_type": "code",
      "execution_count": null,
      "metadata": {
        "colab": {
          "base_uri": "https://localhost:8080/"
        },
        "id": "b_RHVKIeG3uQ",
        "outputId": "89a98f9e-977f-4e24-8ab1-6cc958ece98d"
      },
      "outputs": [
        {
          "output_type": "stream",
          "name": "stdout",
          "text": [
            "\n",
            " =========> Fetching input data \n",
            "\n",
            "--2022-08-15 16:01:37--  https://www.dropbox.com/s/ad08fg4c132nzvo/keras_input.zip?dl=0\n",
            "Resolving www.dropbox.com (www.dropbox.com)... 162.125.1.18, 2620:100:6016:18::a27d:112\n",
            "Connecting to www.dropbox.com (www.dropbox.com)|162.125.1.18|:443... connected.\n",
            "HTTP request sent, awaiting response... 301 Moved Permanently\n",
            "Location: /s/raw/ad08fg4c132nzvo/keras_input.zip [following]\n",
            "--2022-08-15 16:01:37--  https://www.dropbox.com/s/raw/ad08fg4c132nzvo/keras_input.zip\n",
            "Reusing existing connection to www.dropbox.com:443.\n",
            "HTTP request sent, awaiting response... 302 Found\n",
            "Location: https://ucf91d3b5322a2f4d6d0b81baabf.dl.dropboxusercontent.com/cd/0/inline/BrFhuNH_a4q8M_no4tCKFNrbTW_lCJ_2CA6JdqJfDC0VRYmlohTnV3bmlNxwJOwSdUtRIbMu03c-5CLfXY_RfZ6Ov7lCWlrqVn4JneWUcGGM7S49mV-McHk_KXS9KuiFPzuFiADeayg1JKrJWtqfe7SHwzgdJKMH5SVH-2X1E7ypGA/file# [following]\n",
            "--2022-08-15 16:01:37--  https://ucf91d3b5322a2f4d6d0b81baabf.dl.dropboxusercontent.com/cd/0/inline/BrFhuNH_a4q8M_no4tCKFNrbTW_lCJ_2CA6JdqJfDC0VRYmlohTnV3bmlNxwJOwSdUtRIbMu03c-5CLfXY_RfZ6Ov7lCWlrqVn4JneWUcGGM7S49mV-McHk_KXS9KuiFPzuFiADeayg1JKrJWtqfe7SHwzgdJKMH5SVH-2X1E7ypGA/file\n",
            "Resolving ucf91d3b5322a2f4d6d0b81baabf.dl.dropboxusercontent.com (ucf91d3b5322a2f4d6d0b81baabf.dl.dropboxusercontent.com)... 162.125.1.15, 2620:100:6016:15::a27d:10f\n",
            "Connecting to ucf91d3b5322a2f4d6d0b81baabf.dl.dropboxusercontent.com (ucf91d3b5322a2f4d6d0b81baabf.dl.dropboxusercontent.com)|162.125.1.15|:443... connected.\n",
            "HTTP request sent, awaiting response... 302 Found\n",
            "Location: /cd/0/inline2/BrEB4wxOIp-G5J0olwAmJNcVQKnR7iNHs2a03fxvqST4McjzwKny5jxBiS47D-ie_vHCfeDg3z9Gcfqj2nrBuhsATsXg3MdwIrNjGRohG0FozJS8VUGffhCwIBVgpbsOrOO4_dMNzb8BXO6Zz9EzE7f8D_QFRrxGS1GMu4GpQNZuns9hrKZEpxJb1RA9ah7OXpCGu_GCd5HPeIaFrvlLYGyxQxddvpGCJA5bMRxDgxY88tXGBnkvGOAcR2xJX3Jk86iEh7uwJc8Kc7kVFdF2QBHy986JmTwk5l34KGHDLbtSPe9-uT8K-JtyUsZRTtK0qSi523a-8P1IBds0ozq6P4jeUBljieU1woDevQKn4hcj47GO6KE_UHFWnh9ll_dakt830qn0skkGKmSSpis0hLq7HUenEAIcNjPdpiXLCLdUyQ/file [following]\n",
            "--2022-08-15 16:01:38--  https://ucf91d3b5322a2f4d6d0b81baabf.dl.dropboxusercontent.com/cd/0/inline2/BrEB4wxOIp-G5J0olwAmJNcVQKnR7iNHs2a03fxvqST4McjzwKny5jxBiS47D-ie_vHCfeDg3z9Gcfqj2nrBuhsATsXg3MdwIrNjGRohG0FozJS8VUGffhCwIBVgpbsOrOO4_dMNzb8BXO6Zz9EzE7f8D_QFRrxGS1GMu4GpQNZuns9hrKZEpxJb1RA9ah7OXpCGu_GCd5HPeIaFrvlLYGyxQxddvpGCJA5bMRxDgxY88tXGBnkvGOAcR2xJX3Jk86iEh7uwJc8Kc7kVFdF2QBHy986JmTwk5l34KGHDLbtSPe9-uT8K-JtyUsZRTtK0qSi523a-8P1IBds0ozq6P4jeUBljieU1woDevQKn4hcj47GO6KE_UHFWnh9ll_dakt830qn0skkGKmSSpis0hLq7HUenEAIcNjPdpiXLCLdUyQ/file\n",
            "Reusing existing connection to ucf91d3b5322a2f4d6d0b81baabf.dl.dropboxusercontent.com:443.\n",
            "HTTP request sent, awaiting response... 200 OK\n",
            "Length: 208745172 (199M) [application/zip]\n",
            "Saving to: ‘keras_input.zip’\n",
            "\n",
            "keras_input.zip     100%[===================>] 199.07M   178MB/s    in 1.1s    \n",
            "\n",
            "2022-08-15 16:01:39 (178 MB/s) - ‘keras_input.zip’ saved [208745172/208745172]\n",
            "\n",
            "Archive:  keras_input.zip\n",
            "warning:  stripped absolute path spec from /\n",
            "mapname:  conversion of  failed\n",
            "replace mnbs_et.npy? [y]es, [n]o, [A]ll, [N]one, [r]ename: N\n"
          ]
        }
      ],
      "source": [
        "print(\"\\n =========> Fetching input data \\n\")\n",
        "\n",
        "!wget https://www.dropbox.com/s/ad08fg4c132nzvo/keras_input.zip?dl=0 -O keras_input.zip\n",
        "\n",
        "!unzip keras_input.zip\n",
        "\n",
        "data_folder = \".\""
      ]
    },
    {
      "cell_type": "markdown",
      "metadata": {
        "id": "mZmezFRRIyC7"
      },
      "source": [
        "The three datasets are saved as dictionaries with 4 components:\n",
        "<u1 type=\"circle\">\n",
        "<li>\"points\": Point Cloud (xy coordinates of each hit of a cluster) - 50 maximum hits </li>\n",
        "<li>\"features\": Energy and Time of each hit of a cluster - 50 maximum hits</li>\n",
        "<li>\"mask\": Mask to distinguish real hits (filled with 1, the others are filled with 0) in a cluster</li>\n",
        "<li>\"summary\": Energy, Time, Centroid Radius, and Number of active cells for a cluster</li>\n",
        "<br>\n",
        "The MC data has been filtered with ROOT\n",
        "using two pre-selection cuts:\n",
        "E > 50 MeV  &&  R > 480 mm <br>\n",
        "The cuts are necessary because in the low-energy and low-radius region the \n",
        "background due to the beam is too high\n"
      ]
    },
    {
      "cell_type": "code",
      "execution_count": null,
      "metadata": {
        "id": "PoBFuNxFIPd-"
      },
      "outputs": [],
      "source": [
        "name_map = {\"points\": \"xy\", \"features\": \"et\", \"mask\": \"mask\", \"summary\": \"etrn\"}\n",
        "\n",
        "signal  = {key: np.load(f\"{data_folder}/signal_{ name_map[key]}.npy\") for key in name_map}\n",
        "\n",
        "mnbs    = {key: np.load(f\"{data_folder}/mnbs_{   name_map[key]}.npy\") for key in name_map}\n",
        "\n",
        "cosmics = {key: np.load(f\"{data_folder}/cosmics_{name_map[key]}.npy\") for key in name_map}"
      ]
    },
    {
      "cell_type": "markdown",
      "metadata": {
        "id": "bsCqUqleJy6G"
      },
      "source": [
        "# Data Visualization\n",
        "Hits on the calorimeter for N = 10 random events per each event type are shown"
      ]
    },
    {
      "cell_type": "code",
      "execution_count": null,
      "metadata": {
        "colab": {
          "base_uri": "https://localhost:8080/",
          "height": 1000
        },
        "id": "5urXL2LZKO1U",
        "outputId": "25921f38-904c-4d67-fd58-574f6e0c4b9b"
      },
      "outputs": [
        {
          "output_type": "display_data",
          "data": {
            "text/plain": [
              "<Figure size 900x600 with 2 Axes>"
            ],
            "image/png": "[encoded data removed]"
          },
          "metadata": {
            "needs_background": "light"
          }
        },
        {
          "output_type": "stream",
          "name": "stdout",
          "text": [
            " =========> Saved 10 random clusters from signal events\n"
          ]
        },
        {
          "output_type": "display_data",
          "data": {
            "text/plain": [
              "<Figure size 900x600 with 2 Axes>"
            ],
            "image/png": "[encoded data removed]"
          },
          "metadata": {
            "needs_background": "light"
          }
        },
        {
          "output_type": "stream",
          "name": "stdout",
          "text": [
            " =========> Saved 10 random clusters from min-bias events\n"
          ]
        },
        {
          "output_type": "display_data",
          "data": {
            "text/plain": [
              "<Figure size 900x600 with 2 Axes>"
            ],
            "image/png": "[encoded data removed]"
          },
          "metadata": {
            "needs_background": "light"
          }
        },
        {
          "output_type": "stream",
          "name": "stdout",
          "text": [
            " =========> Saved 10 random clusters from cosmic events\n"
          ]
        }
      ],
      "source": [
        "channels = [signal, mnbs, cosmics]\n",
        "ch_names = [\"signal\", \"min-bias\", \"cosmic\"]\n",
        "\n",
        "cmap = plt.get_cmap('viridis', 20)\n",
        "cmap.set_under('white')\n",
        "\n",
        "N = 10  #Number of events shown\n",
        "\n",
        "images_dir = './images_PNet'\n",
        "if not os.path.isdir(images_dir):\n",
        "    os.makedirs(images_dir)\n",
        "\n",
        "for ch, name in zip(channels, ch_names):\n",
        "\n",
        "  evs = np.random.randint(0, high=len(ch[\"points\"]), size=N, dtype=int)\n",
        "  fig = plt.figure(figsize=(15, 10), dpi=60)\n",
        "  plt.scatter(cosmics[\"points\"][:, :, 0], cosmics[\"points\"][:, :, 1], marker=\"s\", s=80, color=\"lightgrey\")\n",
        "  arr_xy = ch[\"points\"][evs]\n",
        "  x, y = arr_xy[:, :, 0], arr_xy[:, :, 1]\n",
        "  e = ch[\"features\"][evs][:, :, 0]\n",
        "  plt.scatter(x, y, c=e, cmap=cmap, vmin=1, marker=\"s\", s=80)\n",
        "  plt.title(f\"{N} random clusters from {name} events\", fontsize=22)\n",
        "  plt.xlabel(\"X [mm]\", fontsize=22)\n",
        "  plt.ylabel(\"Y [mm]\", fontsize=22)\n",
        "  plt.xticks(fontsize=22)\n",
        "  plt.yticks(fontsize=22)\n",
        "  clb = plt.colorbar()\n",
        "  clb.ax.set_title('Energy [MeV]',fontsize=22)\n",
        "  clb.ax.tick_params(labelsize=22)\n",
        "\n",
        "  plt_name= f\"{N}_{name}_events.png\"\n",
        "  filepath_imm = os.path.join(images_dir, plt_name)\n",
        "  fig.savefig(filepath_imm)\n",
        "  plt.show() \n",
        "  print(f\" =========> Saved {N} random clusters from {name} events\")"
      ]
    },
    {
      "cell_type": "markdown",
      "metadata": {
        "id": "B2dh0-3CZ58D"
      },
      "source": [
        "# Training\n",
        "The MC samples are weighted to match the expected ratios in one injection cycle. \n",
        "\n",
        "\n",
        "Real expected cluster on upstream disk in one injection cycle (1.33s):<br>\n",
        "RMC: 330 <br>\n",
        "MNBS: 1.3M <br>\n",
        "cosmics: 4 <br> <br>\n",
        "\n",
        "MC cluster on upstream disk:<br>\n",
        "RMC: 150k<br>\n",
        "MNBS: 5.25M<br>\n",
        "cosmics: 53k\n",
        "\n",
        "\n"
      ]
    },
    {
      "cell_type": "code",
      "execution_count": null,
      "metadata": {
        "id": "o3Y3bYYxKh4S"
      },
      "outputs": [],
      "source": [
        "signal_weight = 330/150e3 * 100\n",
        "mnbs_weight = 1.3/5.25 * 100\n",
        "cosmics_weight = 4/53e3 * 100"
      ]
    },
    {
      "cell_type": "markdown",
      "metadata": {
        "id": "O_iGVIMplvJI"
      },
      "source": [
        "The samples are merged into a unique dataset, which is then shuffled, saving also labels and weights\n"
      ]
    },
    {
      "cell_type": "code",
      "execution_count": null,
      "metadata": {
        "id": "WfOLGgislrte"
      },
      "outputs": [],
      "source": [
        "S =  signal[\"mask\"].shape[0] \n",
        "F =    mnbs[\"mask\"].shape[0] \n",
        "C = cosmics[\"mask\"].shape[0]\n",
        "\n",
        "N = S + F + C\n",
        "\n",
        "p = np.random.permutation(N) "
      ]
    },
    {
      "cell_type": "code",
      "execution_count": null,
      "metadata": {
        "colab": {
          "base_uri": "https://localhost:8080/"
        },
        "id": "gKB57M30l2eD",
        "outputId": "0dbc8c60-e6f5-40be-80b2-6220c4fe681b"
      },
      "outputs": [
        {
          "output_type": "stream",
          "name": "stdout",
          "text": [
            "- Entries for signal, mnbs and cosmics:[41372, 1132, 41598]\n",
            "- Weigths for signal, mnbs and cosmics:[0.22, 24.761904761904763, 0.007547169811320755]\n"
          ]
        }
      ],
      "source": [
        "data = {key: np.concatenate( (signal[key], mnbs[key], cosmics[key]) )[p] for key in name_map}\n",
        "\n",
        "label_list = [1, 0, 0]\n",
        "entries_list = [S, F, C]\n",
        "weight_list = [signal_weight, mnbs_weight, cosmics_weight]\n",
        "\n",
        "print(f\"- Entries for signal, mnbs and cosmics:{entries_list}\")\n",
        "print(f\"- Weigths for signal, mnbs and cosmics:{weight_list}\")\n",
        "\n",
        "label = np.concatenate( \n",
        "    [ np.ones((e))*l for e, l in zip(entries_list,  label_list) ]\n",
        ")[p]\n",
        "\n",
        "sample_weight = np.concatenate( \n",
        "    [ np.ones((e))*w for e, w in zip(entries_list, weight_list) ]\n",
        ")[p]\n"
      ]
    },
    {
      "cell_type": "markdown",
      "metadata": {
        "id": "cyci22mbmglv"
      },
      "source": [
        "Data is normalized to help the training"
      ]
    },
    {
      "cell_type": "code",
      "execution_count": null,
      "metadata": {
        "id": "ok4VwPS7mbGC"
      },
      "outputs": [],
      "source": [
        "from sklearn.preprocessing import StandardScaler\n",
        "import copy\n",
        "scaler = StandardScaler()\n",
        "\n",
        "virgin_data = copy.deepcopy(data)\n",
        "\n",
        "for key in [\"points\", \"features\"]:\n",
        "  data[key][data[\"mask\"].reshape(N, 50)] = scaler.fit_transform(data[key][data[\"mask\"].reshape(N, 50)])\n",
        "\n",
        "data[\"summary\"] = scaler.fit_transform(data[\"summary\"])"
      ]
    },
    {
      "cell_type": "markdown",
      "metadata": {
        "id": "KCMYU5ykmwY2"
      },
      "source": [
        "The dataset is divided in training, test and validation with a ratio 7:2:1"
      ]
    },
    {
      "cell_type": "code",
      "execution_count": null,
      "metadata": {
        "id": "DHfxelTFmpO8"
      },
      "outputs": [],
      "source": [
        "train_data  = {key: data[key][int(N*0.0) : int(N*0.7)] for key in name_map}\n",
        "test_data   = {key: data[key][int(N*0.7) : int(N*0.9)] for key in name_map}\n",
        "val_data    = {key: data[key][int(N*0.9) : int(N*1.0)] for key in name_map}\n",
        "\n",
        "train_label = label[int(N*0.0) : int(N*0.7)]\n",
        "test_label  = label[int(N*0.7) : int(N*0.9)]\n",
        "val_label   = label[int(N*0.9) : int(N*1.0)]\n",
        "\n",
        "train_weight = sample_weight[int(N*0.0) : int(N*0.7)]\n",
        "test_weight  = sample_weight[int(N*0.7) : int(N*0.9)]\n",
        "val_weight   = sample_weight[int(N*0.9) : int(N*1.0)]"
      ]
    },
    {
      "cell_type": "markdown",
      "metadata": {
        "id": "mELi2kJrnOYs"
      },
      "source": [
        "The custom model is imported from the GitHub repo"
      ]
    },
    {
      "cell_type": "code",
      "execution_count": null,
      "metadata": {
        "colab": {
          "base_uri": "https://localhost:8080/"
        },
        "id": "g9C55js5nEqo",
        "outputId": "8087f10b-2288-4b86-dd32-24e58ef837d6"
      },
      "outputs": [
        {
          "output_type": "stream",
          "name": "stdout",
          "text": [
            "\n",
            " =========> Downloading the custom model from GitHub\n",
            "\n",
            "--2022-08-15 16:02:22--  https://raw.githubusercontent.com/elisasanzani/Software_and_Computing_Project/main/tf_keras_model.py\n",
            "Resolving raw.githubusercontent.com (raw.githubusercontent.com)... 185.199.108.133, 185.199.109.133, 185.199.110.133, ...\n",
            "Connecting to raw.githubusercontent.com (raw.githubusercontent.com)|185.199.108.133|:443... connected.\n",
            "HTTP request sent, awaiting response... 200 OK\n",
            "Length: 8734 (8.5K) [text/plain]\n",
            "Saving to: ‘tf_keras_model.py’\n",
            "\n",
            "tf_keras_model.py   100%[===================>]   8.53K  --.-KB/s    in 0s      \n",
            "\n",
            "2022-08-15 16:02:23 (29.5 MB/s) - ‘tf_keras_model.py’ saved [8734/8734]\n",
            "\n"
          ]
        }
      ],
      "source": [
        "print(\"\\n =========> Downloading the custom model from GitHub\\n\")\n",
        "\n",
        "!wget https://raw.githubusercontent.com/elisasanzani/Software_and_Computing_Project/main/tf_keras_model.py -O tf_keras_model.py\n",
        "\n",
        "import tensorflow as tf\n",
        "from tensorflow import keras\n",
        "from tf_keras_model import get_particle_net_lite_custom"
      ]
    },
    {
      "cell_type": "code",
      "execution_count": null,
      "metadata": {
        "id": "GHwxVx7VSz-E"
      },
      "outputs": [],
      "source": [
        "input_shapes = {'points': (50, 2), 'features': (50, 2), 'mask':(50, 1)}\n",
        "\n",
        "model = get_particle_net_lite_custom(input_shapes)"
      ]
    },
    {
      "cell_type": "markdown",
      "metadata": {
        "id": "PQpOHaCrS4-h"
      },
      "source": [
        "Training parameters"
      ]
    },
    {
      "cell_type": "code",
      "execution_count": null,
      "metadata": {
        "id": "KoiwD6uyS7zL"
      },
      "outputs": [],
      "source": [
        "batch_size = 1024\n",
        "epochs = 30"
      ]
    },
    {
      "cell_type": "markdown",
      "metadata": {
        "id": "HwefnhKsS_LJ"
      },
      "source": [
        "Learning Rate <br>\n",
        "It is exponentially decreased by a factor 0.1 every 10 epochs, for a maximum of 30 epochs."
      ]
    },
    {
      "cell_type": "code",
      "execution_count": null,
      "metadata": {
        "id": "vWqRN0G7TLGz"
      },
      "outputs": [],
      "source": [
        "def lr_schedule(epoch):\n",
        "    lr = 1e-2\n",
        "    if epoch > 10:\n",
        "        lr *= 0.1\n",
        "    elif epoch > 20:\n",
        "        lr *= 0.01\n",
        "    logging.info('Learning rate: %f'%lr)\n",
        "    return lr"
      ]
    },
    {
      "cell_type": "markdown",
      "metadata": {
        "id": "iSq5swUCTcj9"
      },
      "source": [
        "Compilation of the model<br>\n",
        "All losses and metrics are weighted to match the real statistics<br>\n",
        "- Loss: Binary Crossentropy <br>\n",
        "- Metric: Area Under Precision Recall Curve (AUPRC) <br>\n",
        "- Optimizer: Adam"
      ]
    },
    {
      "cell_type": "code",
      "execution_count": null,
      "metadata": {
        "colab": {
          "base_uri": "https://localhost:8080/"
        },
        "id": "PI_7kptmTR1b",
        "outputId": "090d8d28-a2cc-491a-ef85-dd73147e7c7b"
      },
      "outputs": [
        {
          "output_type": "stream",
          "name": "stdout",
          "text": [
            "\n",
            " =========> Compiling the model\n",
            "\n",
            "Model: \"ParticleNet\"\n",
            "__________________________________________________________________________________________________\n",
            " Layer (type)                   Output Shape         Param #     Connected to                     \n",
            "==================================================================================================\n",
            " mask (InputLayer)              [(None, 50, 1)]      0           []                               \n",
            "                                                                                                  \n",
            " tf.math.not_equal (TFOpLambda)  (None, 50, 1)       0           ['mask[0][0]']                   \n",
            "                                                                                                  \n",
            " tf.cast (TFOpLambda)           (None, 50, 1)        0           ['tf.math.not_equal[0][0]']      \n",
            "                                                                                                  \n",
            " tf.math.equal (TFOpLambda)     (None, 50, 1)        0           ['tf.cast[0][0]']                \n",
            "                                                                                                  \n",
            " tf.cast_1 (TFOpLambda)         (None, 50, 1)        0           ['tf.math.equal[0][0]']          \n",
            "                                                                                                  \n",
            " tf.math.multiply (TFOpLambda)  (None, 50, 1)        0           ['tf.cast_1[0][0]']              \n",
            "                                                                                                  \n",
            " points (InputLayer)            [(None, 50, 2)]      0           []                               \n",
            "                                                                                                  \n",
            " tf.math.add (TFOpLambda)       (None, 50, 2)        0           ['tf.math.multiply[0][0]',       \n",
            "                                                                  'points[0][0]']                 \n",
            "                                                                                                  \n",
            " features (InputLayer)          [(None, 50, 2)]      0           []                               \n",
            "                                                                                                  \n",
            " tf.compat.v1.transpose (TFOpLa  (None, 2, 50)       0           ['tf.math.add[0][0]']            \n",
            " mbda)                                                                                            \n",
            "                                                                                                  \n",
            " tf.expand_dims (TFOpLambda)    (None, 50, 1, 2)     0           ['features[0][0]']               \n",
            "                                                                                                  \n",
            " tf.math.multiply_1 (TFOpLambda  (None, 50, 2)       0           ['tf.math.add[0][0]',            \n",
            " )                                                                'tf.math.add[0][0]']            \n",
            "                                                                                                  \n",
            " tf.linalg.matmul (TFOpLambda)  (None, 50, 50)       0           ['tf.math.add[0][0]',            \n",
            "                                                                  'tf.compat.v1.transpose[0][0]'] \n",
            "                                                                                                  \n",
            " tf.math.multiply_2 (TFOpLambda  (None, 50, 2)       0           ['tf.math.add[0][0]',            \n",
            " )                                                                'tf.math.add[0][0]']            \n",
            "                                                                                                  \n",
            " ParticleNet_fts_bn (BatchNorma  (None, 50, 1, 2)    8           ['tf.expand_dims[0][0]']         \n",
            " lization)                                                                                        \n",
            "                                                                                                  \n",
            " tf.math.reduce_sum (TFOpLambda  (None, 50, 1)       0           ['tf.math.multiply_1[0][0]']     \n",
            " )                                                                                                \n",
            "                                                                                                  \n",
            " tf.math.multiply_3 (TFOpLambda  (None, 50, 50)      0           ['tf.linalg.matmul[0][0]']       \n",
            " )                                                                                                \n",
            "                                                                                                  \n",
            " tf.math.reduce_sum_1 (TFOpLamb  (None, 50, 1)       0           ['tf.math.multiply_2[0][0]']     \n",
            " da)                                                                                              \n",
            "                                                                                                  \n",
            " tf.compat.v1.squeeze (TFOpLamb  (None, 50, 2)       0           ['ParticleNet_fts_bn[0][0]']     \n",
            " da)                                                                                              \n",
            "                                                                                                  \n",
            " tf.math.subtract (TFOpLambda)  (None, 50, 50)       0           ['tf.math.reduce_sum[0][0]',     \n",
            "                                                                  'tf.math.multiply_3[0][0]']     \n",
            "                                                                                                  \n",
            " tf.compat.v1.transpose_1 (TFOp  (None, 1, 50)       0           ['tf.math.reduce_sum_1[0][0]']   \n",
            " Lambda)                                                                                          \n",
            "                                                                                                  \n",
            " tf.compat.v1.shape (TFOpLambda  (3,)                0           ['tf.compat.v1.squeeze[0][0]']   \n",
            " )                                                                                                \n",
            "                                                                                                  \n",
            " tf.__operators__.add (TFOpLamb  (None, 50, 50)      0           ['tf.math.subtract[0][0]',       \n",
            " da)                                                              'tf.compat.v1.transpose_1[0][0]'\n",
            "                                                                 ]                                \n",
            "                                                                                                  \n",
            " tf.__operators__.getitem_1 (Sl  ()                  0           ['tf.compat.v1.shape[0][0]']     \n",
            " icingOpLambda)                                                                                   \n",
            "                                                                                                  \n",
            " tf.math.negative (TFOpLambda)  (None, 50, 50)       0           ['tf.__operators__.add[0][0]']   \n",
            "                                                                                                  \n",
            " tf.range (TFOpLambda)          (None,)              0           ['tf.__operators__.getitem_1[0][0\n",
            "                                                                 ]']                              \n",
            "                                                                                                  \n",
            " tf.math.top_k (TFOpLambda)     TopKV2(values=(None  0           ['tf.math.negative[0][0]']       \n",
            "                                , 50, 4),                                                         \n",
            "                                 indices=(None, 50,                                               \n",
            "                                 4))                                                              \n",
            "                                                                                                  \n",
            " tf.reshape (TFOpLambda)        (None, 1, 1, 1)      0           ['tf.range[0][0]']               \n",
            "                                                                                                  \n",
            " tf.__operators__.getitem (Slic  (None, 50, 3)       0           ['tf.math.top_k[0][1]']          \n",
            " ingOpLambda)                                                                                     \n",
            "                                                                                                  \n",
            " tf.tile (TFOpLambda)           (None, 50, 3, 1)     0           ['tf.reshape[0][0]']             \n",
            "                                                                                                  \n",
            " tf.expand_dims_1 (TFOpLambda)  (None, 50, 3, 1)     0           ['tf.__operators__.getitem[0][0]'\n",
            "                                                                 ]                                \n",
            "                                                                                                  \n",
            " tf.expand_dims_2 (TFOpLambda)  (None, 50, 1, 2)     0           ['tf.compat.v1.squeeze[0][0]']   \n",
            "                                                                                                  \n",
            " tf.concat (TFOpLambda)         (None, 50, 3, 2)     0           ['tf.tile[0][0]',                \n",
            "                                                                  'tf.expand_dims_1[0][0]']       \n",
            "                                                                                                  \n",
            " tf.tile_1 (TFOpLambda)         (None, 50, 3, 2)     0           ['tf.expand_dims_2[0][0]']       \n",
            "                                                                                                  \n",
            " tf.compat.v1.gather_nd (TFOpLa  (None, 50, 3, 2)    0           ['tf.compat.v1.squeeze[0][0]',   \n",
            " mbda)                                                            'tf.concat[0][0]']              \n",
            "                                                                                                  \n",
            " tf.math.subtract_1 (TFOpLambda  (None, 50, 3, 2)    0           ['tf.compat.v1.gather_nd[0][0]', \n",
            " )                                                                'tf.tile_1[0][0]']              \n",
            "                                                                                                  \n",
            " tf.concat_1 (TFOpLambda)       (None, 50, 3, 4)     0           ['tf.tile_1[0][0]',              \n",
            "                                                                  'tf.math.subtract_1[0][0]']     \n",
            "                                                                                                  \n",
            " ParticleNet_EdgeConv0_conv0 (C  (None, 50, 3, 16)   64          ['tf.concat_1[0][0]']            \n",
            " onv2D)                                                                                           \n",
            "                                                                                                  \n",
            " ParticleNet_EdgeConv0_bn0 (Bat  (None, 50, 3, 16)   64          ['ParticleNet_EdgeConv0_conv0[0][\n",
            " chNormalization)                                                0]']                             \n",
            "                                                                                                  \n",
            " ParticleNet_EdgeConv0_act0 (Ac  (None, 50, 3, 16)   0           ['ParticleNet_EdgeConv0_bn0[0][0]\n",
            " tivation)                                                       ']                               \n",
            "                                                                                                  \n",
            " ParticleNet_EdgeConv0_conv1 (C  (None, 50, 3, 16)   256         ['ParticleNet_EdgeConv0_act0[0][0\n",
            " onv2D)                                                          ]']                              \n",
            "                                                                                                  \n",
            " ParticleNet_EdgeConv0_bn1 (Bat  (None, 50, 3, 16)   64          ['ParticleNet_EdgeConv0_conv1[0][\n",
            " chNormalization)                                                0]']                             \n",
            "                                                                                                  \n",
            " ParticleNet_EdgeConv0_act1 (Ac  (None, 50, 3, 16)   0           ['ParticleNet_EdgeConv0_bn1[0][0]\n",
            " tivation)                                                       ']                               \n",
            "                                                                                                  \n",
            " tf.expand_dims_3 (TFOpLambda)  (None, 50, 1, 2)     0           ['tf.compat.v1.squeeze[0][0]']   \n",
            "                                                                                                  \n",
            " ParticleNet_EdgeConv0_conv2 (C  (None, 50, 3, 16)   256         ['ParticleNet_EdgeConv0_act1[0][0\n",
            " onv2D)                                                          ]']                              \n",
            "                                                                                                  \n",
            " ParticleNet_EdgeConv0_sc_conv   (None, 50, 1, 16)   32          ['tf.expand_dims_3[0][0]']       \n",
            " (Conv2D)                                                                                         \n",
            "                                                                                                  \n",
            " ParticleNet_EdgeConv0_bn2 (Bat  (None, 50, 3, 16)   64          ['ParticleNet_EdgeConv0_conv2[0][\n",
            " chNormalization)                                                0]']                             \n",
            "                                                                                                  \n",
            " ParticleNet_EdgeConv0_sc_bn (B  (None, 50, 1, 16)   64          ['ParticleNet_EdgeConv0_sc_conv[0\n",
            " atchNormalization)                                              ][0]']                           \n",
            "                                                                                                  \n",
            " ParticleNet_EdgeConv0_act2 (Ac  (None, 50, 3, 16)   0           ['ParticleNet_EdgeConv0_bn2[0][0]\n",
            " tivation)                                                       ']                               \n",
            "                                                                                                  \n",
            " tf.compat.v1.squeeze_1 (TFOpLa  (None, 50, 16)      0           ['ParticleNet_EdgeConv0_sc_bn[0][\n",
            " mbda)                                                           0]']                             \n",
            "                                                                                                  \n",
            " tf.math.reduce_max (TFOpLambda  (None, 50, 16)      0           ['ParticleNet_EdgeConv0_act2[0][0\n",
            " )                                                               ]']                              \n",
            "                                                                                                  \n",
            " tf.__operators__.add_1 (TFOpLa  (None, 50, 16)      0           ['tf.compat.v1.squeeze_1[0][0]', \n",
            " mbda)                                                            'tf.math.reduce_max[0][0]']     \n",
            "                                                                                                  \n",
            " ParticleNet_EdgeConv0_sc_act (  (None, 50, 16)      0           ['tf.__operators__.add_1[0][0]'] \n",
            " Activation)                                                                                      \n",
            "                                                                                                  \n",
            " tf.math.add_1 (TFOpLambda)     (None, 50, 16)       0           ['tf.math.multiply[0][0]',       \n",
            "                                                                  'ParticleNet_EdgeConv0_sc_act[0]\n",
            "                                                                 [0]']                            \n",
            "                                                                                                  \n",
            " tf.compat.v1.transpose_2 (TFOp  (None, 16, 50)      0           ['tf.math.add_1[0][0]']          \n",
            " Lambda)                                                                                          \n",
            "                                                                                                  \n",
            " tf.math.multiply_4 (TFOpLambda  (None, 50, 16)      0           ['tf.math.add_1[0][0]',          \n",
            " )                                                                'tf.math.add_1[0][0]']          \n",
            "                                                                                                  \n",
            " tf.linalg.matmul_1 (TFOpLambda  (None, 50, 50)      0           ['tf.math.add_1[0][0]',          \n",
            " )                                                                'tf.compat.v1.transpose_2[0][0]'\n",
            "                                                                 ]                                \n",
            "                                                                                                  \n",
            " tf.math.multiply_5 (TFOpLambda  (None, 50, 16)      0           ['tf.math.add_1[0][0]',          \n",
            " )                                                                'tf.math.add_1[0][0]']          \n",
            "                                                                                                  \n",
            " tf.math.reduce_sum_2 (TFOpLamb  (None, 50, 1)       0           ['tf.math.multiply_4[0][0]']     \n",
            " da)                                                                                              \n",
            "                                                                                                  \n",
            " tf.math.multiply_6 (TFOpLambda  (None, 50, 50)      0           ['tf.linalg.matmul_1[0][0]']     \n",
            " )                                                                                                \n",
            "                                                                                                  \n",
            " tf.math.reduce_sum_3 (TFOpLamb  (None, 50, 1)       0           ['tf.math.multiply_5[0][0]']     \n",
            " da)                                                                                              \n",
            "                                                                                                  \n",
            " tf.math.subtract_2 (TFOpLambda  (None, 50, 50)      0           ['tf.math.reduce_sum_2[0][0]',   \n",
            " )                                                                'tf.math.multiply_6[0][0]']     \n",
            "                                                                                                  \n",
            " tf.compat.v1.transpose_3 (TFOp  (None, 1, 50)       0           ['tf.math.reduce_sum_3[0][0]']   \n",
            " Lambda)                                                                                          \n",
            "                                                                                                  \n",
            " tf.compat.v1.shape_1 (TFOpLamb  (3,)                0           ['ParticleNet_EdgeConv0_sc_act[0]\n",
            " da)                                                             [0]']                            \n",
            "                                                                                                  \n",
            " tf.__operators__.add_2 (TFOpLa  (None, 50, 50)      0           ['tf.math.subtract_2[0][0]',     \n",
            " mbda)                                                            'tf.compat.v1.transpose_3[0][0]'\n",
            "                                                                 ]                                \n",
            "                                                                                                  \n",
            " tf.__operators__.getitem_3 (Sl  ()                  0           ['tf.compat.v1.shape_1[0][0]']   \n",
            " icingOpLambda)                                                                                   \n",
            "                                                                                                  \n",
            " tf.math.negative_1 (TFOpLambda  (None, 50, 50)      0           ['tf.__operators__.add_2[0][0]'] \n",
            " )                                                                                                \n",
            "                                                                                                  \n",
            " tf.range_1 (TFOpLambda)        (None,)              0           ['tf.__operators__.getitem_3[0][0\n",
            "                                                                 ]']                              \n",
            "                                                                                                  \n",
            " tf.math.top_k_1 (TFOpLambda)   TopKV2(values=(None  0           ['tf.math.negative_1[0][0]']     \n",
            "                                , 50, 4),                                                         \n",
            "                                 indices=(None, 50,                                               \n",
            "                                 4))                                                              \n",
            "                                                                                                  \n",
            " tf.reshape_1 (TFOpLambda)      (None, 1, 1, 1)      0           ['tf.range_1[0][0]']             \n",
            "                                                                                                  \n",
            " tf.__operators__.getitem_2 (Sl  (None, 50, 3)       0           ['tf.math.top_k_1[0][1]']        \n",
            " icingOpLambda)                                                                                   \n",
            "                                                                                                  \n",
            " tf.tile_2 (TFOpLambda)         (None, 50, 3, 1)     0           ['tf.reshape_1[0][0]']           \n",
            "                                                                                                  \n",
            " tf.expand_dims_4 (TFOpLambda)  (None, 50, 3, 1)     0           ['tf.__operators__.getitem_2[0][0\n",
            "                                                                 ]']                              \n",
            "                                                                                                  \n",
            " tf.expand_dims_5 (TFOpLambda)  (None, 50, 1, 16)    0           ['ParticleNet_EdgeConv0_sc_act[0]\n",
            "                                                                 [0]']                            \n",
            "                                                                                                  \n",
            " tf.concat_2 (TFOpLambda)       (None, 50, 3, 2)     0           ['tf.tile_2[0][0]',              \n",
            "                                                                  'tf.expand_dims_4[0][0]']       \n",
            "                                                                                                  \n",
            " tf.tile_3 (TFOpLambda)         (None, 50, 3, 16)    0           ['tf.expand_dims_5[0][0]']       \n",
            "                                                                                                  \n",
            " tf.compat.v1.gather_nd_1 (TFOp  (None, 50, 3, 16)   0           ['ParticleNet_EdgeConv0_sc_act[0]\n",
            " Lambda)                                                         [0]',                            \n",
            "                                                                  'tf.concat_2[0][0]']            \n",
            "                                                                                                  \n",
            " tf.math.subtract_3 (TFOpLambda  (None, 50, 3, 16)   0           ['tf.compat.v1.gather_nd_1[0][0]'\n",
            " )                                                               , 'tf.tile_3[0][0]']             \n",
            "                                                                                                  \n",
            " tf.concat_3 (TFOpLambda)       (None, 50, 3, 32)    0           ['tf.tile_3[0][0]',              \n",
            "                                                                  'tf.math.subtract_3[0][0]']     \n",
            "                                                                                                  \n",
            " ParticleNet_EdgeConv1_conv0 (C  (None, 50, 3, 32)   1024        ['tf.concat_3[0][0]']            \n",
            " onv2D)                                                                                           \n",
            "                                                                                                  \n",
            " ParticleNet_EdgeConv1_bn0 (Bat  (None, 50, 3, 32)   128         ['ParticleNet_EdgeConv1_conv0[0][\n",
            " chNormalization)                                                0]']                             \n",
            "                                                                                                  \n",
            " ParticleNet_EdgeConv1_act0 (Ac  (None, 50, 3, 32)   0           ['ParticleNet_EdgeConv1_bn0[0][0]\n",
            " tivation)                                                       ']                               \n",
            "                                                                                                  \n",
            " ParticleNet_EdgeConv1_conv1 (C  (None, 50, 3, 32)   1024        ['ParticleNet_EdgeConv1_act0[0][0\n",
            " onv2D)                                                          ]']                              \n",
            "                                                                                                  \n",
            " ParticleNet_EdgeConv1_bn1 (Bat  (None, 50, 3, 32)   128         ['ParticleNet_EdgeConv1_conv1[0][\n",
            " chNormalization)                                                0]']                             \n",
            "                                                                                                  \n",
            " ParticleNet_EdgeConv1_act1 (Ac  (None, 50, 3, 32)   0           ['ParticleNet_EdgeConv1_bn1[0][0]\n",
            " tivation)                                                       ']                               \n",
            "                                                                                                  \n",
            " tf.expand_dims_6 (TFOpLambda)  (None, 50, 1, 16)    0           ['ParticleNet_EdgeConv0_sc_act[0]\n",
            "                                                                 [0]']                            \n",
            "                                                                                                  \n",
            " ParticleNet_EdgeConv1_conv2 (C  (None, 50, 3, 32)   1024        ['ParticleNet_EdgeConv1_act1[0][0\n",
            " onv2D)                                                          ]']                              \n",
            "                                                                                                  \n",
            " ParticleNet_EdgeConv1_sc_conv   (None, 50, 1, 32)   512         ['tf.expand_dims_6[0][0]']       \n",
            " (Conv2D)                                                                                         \n",
            "                                                                                                  \n",
            " ParticleNet_EdgeConv1_bn2 (Bat  (None, 50, 3, 32)   128         ['ParticleNet_EdgeConv1_conv2[0][\n",
            " chNormalization)                                                0]']                             \n",
            "                                                                                                  \n",
            " ParticleNet_EdgeConv1_sc_bn (B  (None, 50, 1, 32)   128         ['ParticleNet_EdgeConv1_sc_conv[0\n",
            " atchNormalization)                                              ][0]']                           \n",
            "                                                                                                  \n",
            " ParticleNet_EdgeConv1_act2 (Ac  (None, 50, 3, 32)   0           ['ParticleNet_EdgeConv1_bn2[0][0]\n",
            " tivation)                                                       ']                               \n",
            "                                                                                                  \n",
            " tf.compat.v1.squeeze_2 (TFOpLa  (None, 50, 32)      0           ['ParticleNet_EdgeConv1_sc_bn[0][\n",
            " mbda)                                                           0]']                             \n",
            "                                                                                                  \n",
            " tf.math.reduce_max_1 (TFOpLamb  (None, 50, 32)      0           ['ParticleNet_EdgeConv1_act2[0][0\n",
            " da)                                                             ]']                              \n",
            "                                                                                                  \n",
            " tf.__operators__.add_3 (TFOpLa  (None, 50, 32)      0           ['tf.compat.v1.squeeze_2[0][0]', \n",
            " mbda)                                                            'tf.math.reduce_max_1[0][0]']   \n",
            "                                                                                                  \n",
            " ParticleNet_EdgeConv1_sc_act (  (None, 50, 32)      0           ['tf.__operators__.add_3[0][0]'] \n",
            " Activation)                                                                                      \n",
            "                                                                                                  \n",
            " tf.math.multiply_7 (TFOpLambda  (None, 50, 32)      0           ['ParticleNet_EdgeConv1_sc_act[0]\n",
            " )                                                               [0]',                            \n",
            "                                                                  'tf.cast[0][0]']                \n",
            "                                                                                                  \n",
            " tf.math.reduce_mean (TFOpLambd  (None, 32)          0           ['tf.math.multiply_7[0][0]']     \n",
            " a)                                                                                               \n",
            "                                                                                                  \n",
            " summary (InputLayer)           [(None, 4)]          0           []                               \n",
            "                                                                                                  \n",
            " tf.concat_4 (TFOpLambda)       (None, 36)           0           ['tf.math.reduce_mean[0][0]',    \n",
            "                                                                  'summary[0][0]']                \n",
            "                                                                                                  \n",
            " dense (Dense)                  (None, 64)           2368        ['tf.concat_4[0][0]']            \n",
            "                                                                                                  \n",
            " dropout (Dropout)              (None, 64)           0           ['dense[0][0]']                  \n",
            "                                                                                                  \n",
            " dense_1 (Dense)                (None, 1)            65          ['dropout[0][0]']                \n",
            "                                                                                                  \n",
            "==================================================================================================\n",
            "Total params: 7,401\n",
            "Trainable params: 7,013\n",
            "Non-trainable params: 388\n",
            "__________________________________________________________________________________________________\n"
          ]
        }
      ],
      "source": [
        "print(\"\\n =========> Compiling the model\\n\")\n",
        "\n",
        "model.compile(loss='binary_crossentropy',\n",
        "              optimizer=keras.optimizers.Adam(learning_rate=lr_schedule(0)),\n",
        "              weighted_metrics=[keras.metrics.AUC(curve=\"PR\")],\n",
        ")\n",
        "model.summary()"
      ]
    },
    {
      "cell_type": "markdown",
      "metadata": {
        "id": "kORpxE9gUP9N"
      },
      "source": [
        "*Keras* checkpoints are employed to save the model with the best validation AURPC"
      ]
    },
    {
      "cell_type": "code",
      "execution_count": null,
      "metadata": {
        "id": "0a_zkGKxUTP4"
      },
      "outputs": [],
      "source": [
        "# Prepare model saving directory.\n",
        "save_dir ='model_checkpoints'\n",
        "model_name = '%s_model-{val_auc:0.4f}-{epoch:03d}.h5' % \"lite\"\n",
        "if not os.path.isdir(save_dir):\n",
        "    os.makedirs(save_dir)\n",
        "filepath = os.path.join(save_dir, model_name)\n",
        "\n",
        "# Prepare callbacks for model saving and for learning rate adjustment.\n",
        "checkpoint = keras.callbacks.ModelCheckpoint(\n",
        "    filepath=filepath,\n",
        "    monitor='val_auc',\n",
        "    verbose=1,\n",
        "    )\n",
        "progress_bar = keras.callbacks.ProgbarLogger()\n",
        "lr_scheduler = keras.callbacks.LearningRateScheduler(lr_schedule)\n",
        "\n",
        "callbacks = [checkpoint, progress_bar, lr_scheduler]"
      ]
    },
    {
      "cell_type": "markdown",
      "metadata": {
        "id": "4bM5pTBdUkEr"
      },
      "source": [
        "Model training <br>\n",
        "Model is trained weighting the data to match the real statistics, by means of the sample_weight attribute (for the training). <br>\n",
        "Also the validation set is weighted, in order to select the model with the best performances on the real statistics."
      ]
    },
    {
      "cell_type": "code",
      "execution_count": null,
      "metadata": {
        "colab": {
          "base_uri": "https://localhost:8080/"
        },
        "id": "_gmLf_PiU1Gf",
        "outputId": "8e460203-4ca4-4e22-99bb-5ac3f05c2345"
      },
      "outputs": [
        {
          "output_type": "stream",
          "name": "stdout",
          "text": [
            "\n",
            " =========> Starting training\n",
            "\n",
            "Epoch 1/30\n",
            "      0/Unknown - 13s 0s/sample - loss: 0.1477 - auc: 0.7628\n",
            "Epoch 1: saving model to model_checkpoints/lite_model-0.7808-001.h5\n",
            "58/58 [==============================] - 16s 280ms/sample - loss: 0.1477 - auc: 0.7628 - val_loss: 0.1549 - val_auc: 0.7808\n",
            "Epoch 2/30\n",
            " 0/58 [..............................] - ETA: 0s - loss: 0.0995 - auc: 0.8874\n",
            "Epoch 2: saving model to model_checkpoints/lite_model-0.8252-002.h5\n",
            "58/58 [==============================] - 9s 161ms/sample - loss: 0.0995 - auc: 0.8874 - val_loss: 0.1316 - val_auc: 0.8252\n",
            "Epoch 3/30\n",
            " 0/58 [..............................] - ETA: 0s - loss: 0.0854 - auc: 0.9150\n",
            "Epoch 3: saving model to model_checkpoints/lite_model-0.9297-003.h5\n",
            "58/58 [==============================] - 9s 161ms/sample - loss: 0.0854 - auc: 0.9150 - val_loss: 0.0889 - val_auc: 0.9297\n",
            "Epoch 4/30\n",
            " 0/58 [..............................] - ETA: 0s - loss: 0.0730 - auc: 0.9382\n",
            "Epoch 4: saving model to model_checkpoints/lite_model-0.9362-004.h5\n",
            "58/58 [==============================] - 9s 162ms/sample - loss: 0.0730 - auc: 0.9382 - val_loss: 0.1237 - val_auc: 0.9362\n",
            "Epoch 5/30\n",
            " 0/58 [..............................] - ETA: 0s - loss: 0.0672 - auc: 0.9448\n",
            "Epoch 5: saving model to model_checkpoints/lite_model-0.9442-005.h5\n",
            "58/58 [==============================] - 9s 163ms/sample - loss: 0.0672 - auc: 0.9448 - val_loss: 0.0887 - val_auc: 0.9442\n",
            "Epoch 6/30\n",
            " 0/58 [..............................] - ETA: 0s - loss: 0.0713 - auc: 0.9409\n",
            "Epoch 6: saving model to model_checkpoints/lite_model-0.9623-006.h5\n",
            "58/58 [==============================] - 10s 167ms/sample - loss: 0.0713 - auc: 0.9409 - val_loss: 0.0782 - val_auc: 0.9623\n",
            "Epoch 7/30\n",
            " 0/58 [..............................] - ETA: 0s - loss: 0.0597 - auc: 0.9571\n",
            "Epoch 7: saving model to model_checkpoints/lite_model-0.9502-007.h5\n",
            "58/58 [==============================] - 10s 165ms/sample - loss: 0.0597 - auc: 0.9571 - val_loss: 0.0787 - val_auc: 0.9502\n",
            "Epoch 8/30\n",
            " 0/58 [..............................] - ETA: 0s - loss: 0.0564 - auc: 0.9617\n",
            "Epoch 8: saving model to model_checkpoints/lite_model-0.9593-008.h5\n",
            "58/58 [==============================] - 9s 164ms/sample - loss: 0.0564 - auc: 0.9617 - val_loss: 0.0616 - val_auc: 0.9593\n",
            "Epoch 9/30\n",
            " 0/58 [..............................] - ETA: 0s - loss: 0.0592 - auc: 0.9549\n",
            "Epoch 9: saving model to model_checkpoints/lite_model-0.9390-009.h5\n",
            "58/58 [==============================] - 9s 163ms/sample - loss: 0.0592 - auc: 0.9549 - val_loss: 0.0921 - val_auc: 0.9390\n",
            "Epoch 10/30\n",
            " 0/58 [..............................] - ETA: 0s - loss: 0.0549 - auc: 0.9641\n",
            "Epoch 10: saving model to model_checkpoints/lite_model-0.9507-010.h5\n",
            "58/58 [==============================] - 9s 162ms/sample - loss: 0.0549 - auc: 0.9641 - val_loss: 0.0669 - val_auc: 0.9507\n",
            "Epoch 11/30\n",
            " 0/58 [..............................] - ETA: 0s - loss: 0.0537 - auc: 0.9647\n",
            "Epoch 11: saving model to model_checkpoints/lite_model-0.9503-011.h5\n",
            "58/58 [==============================] - 9s 161ms/sample - loss: 0.0537 - auc: 0.9647 - val_loss: 0.0795 - val_auc: 0.9503\n",
            "Epoch 12/30\n",
            " 0/58 [..............................] - ETA: 0s - loss: 0.0459 - auc: 0.9749\n",
            "Epoch 12: saving model to model_checkpoints/lite_model-0.9638-012.h5\n",
            "58/58 [==============================] - 9s 162ms/sample - loss: 0.0459 - auc: 0.9749 - val_loss: 0.0563 - val_auc: 0.9638\n",
            "Epoch 13/30\n",
            " 0/58 [..............................] - ETA: 0s - loss: 0.0409 - auc: 0.9794\n",
            "Epoch 13: saving model to model_checkpoints/lite_model-0.9639-013.h5\n",
            "58/58 [==============================] - 9s 163ms/sample - loss: 0.0409 - auc: 0.9794 - val_loss: 0.0566 - val_auc: 0.9639\n",
            "Epoch 14/30\n",
            " 0/58 [..............................] - ETA: 0s - loss: 0.0412 - auc: 0.9787\n",
            "Epoch 14: saving model to model_checkpoints/lite_model-0.9648-014.h5\n",
            "58/58 [==============================] - 9s 162ms/sample - loss: 0.0412 - auc: 0.9787 - val_loss: 0.0572 - val_auc: 0.9648\n",
            "Epoch 15/30\n",
            " 0/58 [..............................] - ETA: 0s - loss: 0.0388 - auc: 0.9812\n",
            "Epoch 15: saving model to model_checkpoints/lite_model-0.9650-015.h5\n",
            "58/58 [==============================] - 9s 163ms/sample - loss: 0.0388 - auc: 0.9812 - val_loss: 0.0563 - val_auc: 0.9650\n",
            "Epoch 16/30\n",
            " 0/58 [..............................] - ETA: 0s - loss: 0.0392 - auc: 0.9804\n",
            "Epoch 16: saving model to model_checkpoints/lite_model-0.9653-016.h5\n",
            "58/58 [==============================] - 9s 163ms/sample - loss: 0.0392 - auc: 0.9804 - val_loss: 0.0554 - val_auc: 0.9653\n",
            "Epoch 17/30\n",
            " 0/58 [..............................] - ETA: 0s - loss: 0.0387 - auc: 0.9813\n",
            "Epoch 17: saving model to model_checkpoints/lite_model-0.9661-017.h5\n",
            "58/58 [==============================] - 9s 163ms/sample - loss: 0.0387 - auc: 0.9813 - val_loss: 0.0552 - val_auc: 0.9661\n",
            "Epoch 18/30\n",
            " 0/58 [..............................] - ETA: 0s - loss: 0.0381 - auc: 0.9816\n",
            "Epoch 18: saving model to model_checkpoints/lite_model-0.9670-018.h5\n",
            "58/58 [==============================] - 10s 164ms/sample - loss: 0.0381 - auc: 0.9816 - val_loss: 0.0539 - val_auc: 0.9670\n",
            "Epoch 19/30\n",
            " 0/58 [..............................] - ETA: 0s - loss: 0.0381 - auc: 0.9815\n",
            "Epoch 19: saving model to model_checkpoints/lite_model-0.9662-019.h5\n",
            "58/58 [==============================] - 9s 163ms/sample - loss: 0.0381 - auc: 0.9815 - val_loss: 0.0561 - val_auc: 0.9662\n",
            "Epoch 20/30\n",
            " 0/58 [..............................] - ETA: 0s - loss: 0.0373 - auc: 0.9824\n",
            "Epoch 20: saving model to model_checkpoints/lite_model-0.9647-020.h5\n",
            "58/58 [==============================] - 9s 163ms/sample - loss: 0.0373 - auc: 0.9824 - val_loss: 0.0564 - val_auc: 0.9647\n",
            "Epoch 21/30\n",
            " 0/58 [..............................] - ETA: 0s - loss: 0.0378 - auc: 0.9819\n",
            "Epoch 21: saving model to model_checkpoints/lite_model-0.9639-021.h5\n",
            "58/58 [==============================] - 9s 162ms/sample - loss: 0.0378 - auc: 0.9819 - val_loss: 0.0557 - val_auc: 0.9639\n",
            "Epoch 22/30\n",
            " 0/58 [..............................] - ETA: 0s - loss: 0.0397 - auc: 0.9802\n",
            "Epoch 22: saving model to model_checkpoints/lite_model-0.9644-022.h5\n",
            "58/58 [==============================] - 9s 162ms/sample - loss: 0.0397 - auc: 0.9802 - val_loss: 0.0563 - val_auc: 0.9644\n",
            "Epoch 23/30\n",
            " 0/58 [..............................] - ETA: 0s - loss: 0.0368 - auc: 0.9825\n",
            "Epoch 23: saving model to model_checkpoints/lite_model-0.9641-023.h5\n",
            "58/58 [==============================] - 9s 163ms/sample - loss: 0.0368 - auc: 0.9825 - val_loss: 0.0594 - val_auc: 0.9641\n",
            "Epoch 24/30\n",
            " 0/58 [..............................] - ETA: 0s - loss: 0.0371 - auc: 0.9825\n",
            "Epoch 24: saving model to model_checkpoints/lite_model-0.9643-024.h5\n",
            "58/58 [==============================] - 9s 163ms/sample - loss: 0.0371 - auc: 0.9825 - val_loss: 0.0578 - val_auc: 0.9643\n",
            "Epoch 25/30\n",
            " 0/58 [..............................] - ETA: 0s - loss: 0.0362 - auc: 0.9831\n",
            "Epoch 25: saving model to model_checkpoints/lite_model-0.9647-025.h5\n",
            "58/58 [==============================] - 9s 162ms/sample - loss: 0.0362 - auc: 0.9831 - val_loss: 0.0569 - val_auc: 0.9647\n",
            "Epoch 26/30\n",
            " 0/58 [..............................] - ETA: 0s - loss: 0.0342 - auc: 0.9847\n",
            "Epoch 26: saving model to model_checkpoints/lite_model-0.9622-026.h5\n",
            "58/58 [==============================] - 9s 163ms/sample - loss: 0.0342 - auc: 0.9847 - val_loss: 0.0604 - val_auc: 0.9622\n",
            "Epoch 27/30\n",
            " 0/58 [..............................] - ETA: 0s - loss: 0.0338 - auc: 0.9852\n",
            "Epoch 27: saving model to model_checkpoints/lite_model-0.9652-027.h5\n",
            "58/58 [==============================] - 9s 163ms/sample - loss: 0.0338 - auc: 0.9852 - val_loss: 0.0615 - val_auc: 0.9652\n",
            "Epoch 28/30\n",
            " 0/58 [..............................] - ETA: 0s - loss: 0.0343 - auc: 0.9847\n",
            "Epoch 28: saving model to model_checkpoints/lite_model-0.9655-028.h5\n",
            "58/58 [==============================] - 9s 163ms/sample - loss: 0.0343 - auc: 0.9847 - val_loss: 0.0575 - val_auc: 0.9655\n",
            "Epoch 29/30\n",
            " 0/58 [..............................] - ETA: 0s - loss: 0.0331 - auc: 0.9857\n",
            "Epoch 29: saving model to model_checkpoints/lite_model-0.9661-029.h5\n",
            "58/58 [==============================] - 9s 163ms/sample - loss: 0.0331 - auc: 0.9857 - val_loss: 0.0586 - val_auc: 0.9661\n",
            "Epoch 30/30\n",
            " 0/58 [..............................] - ETA: 0s - loss: 0.0330 - auc: 0.9857\n",
            "Epoch 30: saving model to model_checkpoints/lite_model-0.9660-030.h5\n",
            "58/58 [==============================] - 9s 163ms/sample - loss: 0.0330 - auc: 0.9857 - val_loss: 0.0623 - val_auc: 0.9660\n"
          ]
        }
      ],
      "source": [
        "print(\"\\n =========> Starting training\\n\")\n",
        "\n",
        "history = model.fit(\n",
        "    [train_data[\"points\"], train_data[\"features\"], train_data[\"mask\"], train_data[\"summary\"]], \n",
        "    train_label,\n",
        "    batch_size=batch_size,\n",
        "    epochs=epochs,\n",
        "    validation_data=([val_data[\"points\"], val_data[\"features\"], val_data[\"mask\"], val_data[\"summary\"]], val_label, val_weight),\n",
        "    shuffle=True,\n",
        "    sample_weight=train_weight,\n",
        "    callbacks=callbacks\n",
        ")"
      ]
    },
    {
      "cell_type": "markdown",
      "metadata": {
        "id": "qyXBjfEiU5gg"
      },
      "source": [
        "Training history visualization"
      ]
    },
    {
      "cell_type": "code",
      "execution_count": null,
      "metadata": {
        "colab": {
          "base_uri": "https://localhost:8080/",
          "height": 299
        },
        "id": "4iRj96YWVCmA",
        "outputId": "e0b891fd-abc8-45b9-a1fc-e957602dad25"
      },
      "outputs": [
        {
          "output_type": "stream",
          "name": "stdout",
          "text": [
            " =========> Saved loss vs epoch\n"
          ]
        },
        {
          "output_type": "display_data",
          "data": {
            "text/plain": [
              "<Figure size 432x288 with 1 Axes>"
            ],
            "image/png": "[encoded data removed]"
          },
          "metadata": {
            "needs_background": "light"
          }
        }
      ],
      "source": [
        "#Train and validation Loss\n",
        "fig = plt.figure()\n",
        "plt.plot(history.history['loss'], label=\"Train Loss\")\n",
        "plt.plot(history.history['val_loss'], label=\"Validation Loss\")\n",
        "plt.xlabel(\"Epoch\")\n",
        "plt.legend()\n",
        "plt_name= \"loss_vs_epoch.png\"\n",
        "filepath_imm = os.path.join(images_dir, plt_name)\n",
        "fig.savefig(filepath_imm)\n",
        "print(\" =========> Saved loss vs epoch\")\n",
        "#plt.show()"
      ]
    },
    {
      "cell_type": "code",
      "execution_count": null,
      "metadata": {
        "colab": {
          "base_uri": "https://localhost:8080/",
          "height": 296
        },
        "id": "e9woOsn-VDib",
        "outputId": "064a8249-3e49-46a8-c0f6-e3f81df286f0"
      },
      "outputs": [
        {
          "output_type": "stream",
          "name": "stdout",
          "text": [
            " =========> Saved auprc vs epoch\n"
          ]
        },
        {
          "output_type": "display_data",
          "data": {
            "text/plain": [
              "<Figure size 432x288 with 1 Axes>"
            ],
            "image/png": "[encoded data removed]"
          },
          "metadata": {
            "needs_background": "light"
          }
        }
      ],
      "source": [
        "#Train and validation AUPRC\n",
        "fig = plt.figure()\n",
        "plt.plot(history.history['auc'], label=\"Train AUPRC\")\n",
        "plt.plot(history.history['val_auc'], label=\"Validation AUPRC\")\n",
        "plt.xlabel(\"Epoch\")\n",
        "plt.legend()\n",
        "plt_name= \"auprc_vs_epoch.png\"\n",
        "filepath_imm = os.path.join(images_dir, plt_name)\n",
        "fig.savefig(filepath_imm)\n",
        "print(\" =========> Saved auprc vs epoch\")"
      ]
    },
    {
      "cell_type": "markdown",
      "metadata": {
        "id": "WhznYYgiVaKw"
      },
      "source": [
        "The network weights frrom the best model are retreived"
      ]
    },
    {
      "cell_type": "code",
      "execution_count": null,
      "metadata": {
        "colab": {
          "base_uri": "https://localhost:8080/"
        },
        "id": "-GgWSJeGViUK",
        "outputId": "7b261682-bac8-4064-ac71-2a2d187387d5"
      },
      "outputs": [
        {
          "output_type": "stream",
          "name": "stdout",
          "text": [
            "model_checkpoints/lite_model-0.9710-030.h5\n"
          ]
        }
      ],
      "source": [
        "# Select the model with the best val_auc (save_best_only=True in ModelCheckpoint not working)\n",
        "! ls -1 model_checkpoints/*model*.h5 | sort -n | tail -n 1\n",
        "!cp $(ls -1 model_checkpoints/*model*.h5 | sort -n | tail -n 1) model_checkpoints/last.h5"
      ]
    },
    {
      "cell_type": "code",
      "execution_count": null,
      "metadata": {
        "colab": {
          "base_uri": "https://localhost:8080/",
          "height": 314
        },
        "id": "_drT74y-Vn1P",
        "outputId": "162d9e24-6c4c-4bdb-eaab-de6fe04d1550"
      },
      "outputs": [
        {
          "output_type": "stream",
          "name": "stdout",
          "text": [
            " =========> Best area under precision-recall curve:  0.98640918744123\n",
            " =========> Saved best auprc\n"
          ]
        },
        {
          "output_type": "display_data",
          "data": {
            "text/plain": [
              "<Figure size 432x288 with 1 Axes>"
            ],
            "image/png": "[encoded data removed]"
          },
          "metadata": {
            "needs_background": "light"
          }
        }
      ],
      "source": [
        "model.load_weights(\"model_checkpoints/last.h5\")\n",
        "probs = model.predict_on_batch(test_data)\n",
        "\n",
        "precision, recall, thresholds = precision_recall_curve(test_label, probs, sample_weight=test_weight)\n",
        "\n",
        "fig = plt.figure()\n",
        "plt.plot(recall, precision)\n",
        "plt.xlabel(\"Recall\")\n",
        "plt.ylabel(\"Precision\")\n",
        "print(\" =========> Best area under precision-recall curve: \", auc(recall, precision))\n",
        "plt_name= \"best_auprc.png\"\n",
        "filepath_imm = os.path.join(images_dir, plt_name)\n",
        "plt.savefig(filepath_imm)\n",
        "print(\" =========> Saved best auprc\")"
      ]
    },
    {
      "cell_type": "markdown",
      "metadata": {
        "id": "50x5S1b6hI8T"
      },
      "source": [
        "Looking at energy histogram"
      ]
    },
    {
      "cell_type": "code",
      "execution_count": null,
      "metadata": {
        "colab": {
          "base_uri": "https://localhost:8080/",
          "height": 296
        },
        "id": "Q37XjenQiuX0",
        "outputId": "923605df-7746-46b5-8990-4c6332d01f41"
      },
      "outputs": [
        {
          "output_type": "stream",
          "name": "stdout",
          "text": [
            " =========> Saved energy histogram\n"
          ]
        },
        {
          "output_type": "display_data",
          "data": {
            "text/plain": [
              "<Figure size 432x288 with 1 Axes>"
            ],
            "image/png": "[encoded data removed]"
          },
          "metadata": {
            "needs_background": "light"
          }
        }
      ],
      "source": [
        "bin = model.predict(test_data)\n",
        "bin_sig = bin[test_label == 1][:, 0]\n",
        "bin_bkg = bin[test_label == 0][:, 0]\n",
        "weight_sig = test_weight[test_label == 1]\n",
        "weight_bkg = test_weight[test_label == 0]\n",
        "\n",
        "test_virgin_data = {key: virgin_data[key][int(N*0.7) : int(N*0.9)] for key in name_map}\n",
        "\n",
        "en = test_virgin_data[\"summary\"][:, 0]\n",
        "en_sig = en[test_label == 1]\n",
        "en_bkg = en[test_label == 0]\n",
        "\n",
        "fig = plt.figure()\n",
        "plt.hist(en_sig, range=(50, 100), bins=50, weights=weight_sig * bin_sig, color=\"blue\")\n",
        "plt.hist(en_bkg, range=(50, 100), bins=50, weights=weight_bkg * bin_bkg, color=\"red\")\n",
        "\n",
        "plt.xlabel(\"Photon energy [MeV]\")\n",
        "plt.ylabel(\"Entries\")\n",
        "\n",
        "plt_name = \"energy_histo.png\"\n",
        "filepath_imm = os.path.join(images_dir, plt_name)\n",
        "fig.savefig(filepath_imm)\n",
        "print(\" =========> Saved energy histogram\")"
      ]
    },
    {
      "cell_type": "code",
      "source": [
        "#Uncomment to save locally the plots shown in Colab\n",
        "\n",
        "#from google.colab import files\n",
        "#!zip -r images_PNet.zip images_PNet\n",
        "#files.download('images_PNet.zip')"
      ],
      "metadata": {
        "id": "3QP-9J1QzrJV"
      },
      "execution_count": null,
      "outputs": []
    }
  ],
  "metadata": {
    "accelerator": "GPU",
    "colab": {
      "name": "PNet_RMC_main.ipynb",
      "provenance": [],
      "include_colab_link": true
    },
    "gpuClass": "standard",
    "kernelspec": {
      "display_name": "Python 3",
      "name": "python3"
    },
    "language_info": {
      "name": "python"
    }
  },
  "nbformat": 4,
  "nbformat_minor": 0
}
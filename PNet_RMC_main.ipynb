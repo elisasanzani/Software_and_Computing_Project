{
  "cells": [
    {
      "cell_type": "markdown",
      "metadata": {
        "id": "view-in-github",
        "colab_type": "text"
      },
      "source": [
        "<a href=\"https://colab.research.google.com/github/elisasanzani/Software_and_Computing_Project/blob/main/PNet_RMC_main.ipynb\" target=\"_parent\"><img src=\"https://colab.research.google.com/assets/colab-badge.svg\" alt=\"Open In Colab\"/></a>"
      ]
    },
    {
      "cell_type": "markdown",
      "metadata": {
        "id": "37uU1zmzDZ0d"
      },
      "source": [
        "# **Particle Net Lite Custom GD-CNN**"
      ]
    },
    {
      "cell_type": "code",
      "execution_count": 1,
      "metadata": {
        "id": "LiaWlth9DxWr"
      },
      "outputs": [],
      "source": [
        "import logging\n",
        "logging.basicConfig(level=logging.INFO, format='[%(asctime)s] %(levelname)s: %(message)s')\n",
        "import os\n",
        "import numpy as np\n",
        "from sklearn.metrics import precision_recall_curve, auc\n",
        "import matplotlib.pyplot as plt"
      ]
    },
    {
      "cell_type": "markdown",
      "metadata": {
        "id": "k4jHYYysHSVm"
      },
      "source": [
        "Data is downloaded in one go from Dropbox for simplicity. \n",
        "Unzipped version available in [main/data-PNet](https://github.com/elisasanzani/Software_and_Computing_Project/tree/main/data-PNet)"
      ]
    },
    {
      "cell_type": "code",
      "execution_count": 2,
      "metadata": {
        "colab": {
          "base_uri": "https://localhost:8080/"
        },
        "id": "b_RHVKIeG3uQ",
        "outputId": "7f296975-1a05-48a9-9e18-7ec55c19aee2"
      },
      "outputs": [
        {
          "output_type": "stream",
          "name": "stdout",
          "text": [
            "\n",
            " =========> Fetching input data \n",
            "\n",
            "--2022-08-15 14:31:42--  https://www.dropbox.com/s/ad08fg4c132nzvo/keras_input.zip?dl=0\n",
            "Resolving www.dropbox.com (www.dropbox.com)... 162.125.81.18, 2620:100:6031:18::a27d:5112\n",
            "Connecting to www.dropbox.com (www.dropbox.com)|162.125.81.18|:443... connected.\n",
            "HTTP request sent, awaiting response... 301 Moved Permanently\n",
            "Location: /s/raw/ad08fg4c132nzvo/keras_input.zip [following]\n",
            "--2022-08-15 14:31:43--  https://www.dropbox.com/s/raw/ad08fg4c132nzvo/keras_input.zip\n",
            "Reusing existing connection to www.dropbox.com:443.\n",
            "HTTP request sent, awaiting response... 302 Found\n",
            "Location: https://uce0f16363e9701aadfd5aaad6ca.dl.dropboxusercontent.com/cd/0/inline/BrGEThrSrlPpiul8tan1OySEtOiV0x0lIk1CDTbHseyGY5yxXXD-ygY1iV5MNvAsWUz_xj45eEB8pR9s7mH_ap-5GlSJIlpCKklGGlp5PQAdQ5yQRm3hZzj7a6C4V3XGR9_7-39IsjS4-BhD7r1eZslyLQ1Zxmg3OAtp7IQIU_PCAw/file# [following]\n",
            "--2022-08-15 14:31:43--  https://uce0f16363e9701aadfd5aaad6ca.dl.dropboxusercontent.com/cd/0/inline/BrGEThrSrlPpiul8tan1OySEtOiV0x0lIk1CDTbHseyGY5yxXXD-ygY1iV5MNvAsWUz_xj45eEB8pR9s7mH_ap-5GlSJIlpCKklGGlp5PQAdQ5yQRm3hZzj7a6C4V3XGR9_7-39IsjS4-BhD7r1eZslyLQ1Zxmg3OAtp7IQIU_PCAw/file\n",
            "Resolving uce0f16363e9701aadfd5aaad6ca.dl.dropboxusercontent.com (uce0f16363e9701aadfd5aaad6ca.dl.dropboxusercontent.com)... 162.125.81.15, 2620:100:6031:15::a27d:510f\n",
            "Connecting to uce0f16363e9701aadfd5aaad6ca.dl.dropboxusercontent.com (uce0f16363e9701aadfd5aaad6ca.dl.dropboxusercontent.com)|162.125.81.15|:443... connected.\n",
            "HTTP request sent, awaiting response... 302 Found\n",
            "Location: /cd/0/inline2/BrFBjuBJkyFw_O2oFfaPoTLbCm6vhyWEg2KkgbdepROCWARkwkx9Jx8evDQ33OMaZAydgm5vMC3vn6l1Ix5DaQ_6D3Zkm4PtHdED47k_0xViIP3xDWr2W-I8RPGHYyNuH2dLujS8_P3gB-aR-SQBXobeM2he6r6hc9Apf4MUB84JyEz5DMPO-fzr1s5KGgSYwsRstHM2W4w2TC8GdFEbQQPU920QA6I-0ggmrAY3ce-9e0eZz7wfzADYMr4538kIc7hlskBU4X26YKo2tmWghk3O-d1OOl__Hp9RadOaZDJRqvR2P6MQYe573MUIz1IDf2N9HMbFvRc2lnVNXYIWMWa1U9DOqXmCP8jRliE3eWWEN4u0WzAvQWBcEBpSHVRyjwnKgXgpWXj-3SurxFjXUhfr1wnPPD2NIb-s_8hwo7YteQ/file [following]\n",
            "--2022-08-15 14:31:43--  https://uce0f16363e9701aadfd5aaad6ca.dl.dropboxusercontent.com/cd/0/inline2/BrFBjuBJkyFw_O2oFfaPoTLbCm6vhyWEg2KkgbdepROCWARkwkx9Jx8evDQ33OMaZAydgm5vMC3vn6l1Ix5DaQ_6D3Zkm4PtHdED47k_0xViIP3xDWr2W-I8RPGHYyNuH2dLujS8_P3gB-aR-SQBXobeM2he6r6hc9Apf4MUB84JyEz5DMPO-fzr1s5KGgSYwsRstHM2W4w2TC8GdFEbQQPU920QA6I-0ggmrAY3ce-9e0eZz7wfzADYMr4538kIc7hlskBU4X26YKo2tmWghk3O-d1OOl__Hp9RadOaZDJRqvR2P6MQYe573MUIz1IDf2N9HMbFvRc2lnVNXYIWMWa1U9DOqXmCP8jRliE3eWWEN4u0WzAvQWBcEBpSHVRyjwnKgXgpWXj-3SurxFjXUhfr1wnPPD2NIb-s_8hwo7YteQ/file\n",
            "Reusing existing connection to uce0f16363e9701aadfd5aaad6ca.dl.dropboxusercontent.com:443.\n",
            "HTTP request sent, awaiting response... 200 OK\n",
            "Length: 208745172 (199M) [application/zip]\n",
            "Saving to: ‘keras_input.zip’\n",
            "\n",
            "keras_input.zip     100%[===================>] 199.07M  16.3MB/s    in 13s     \n",
            "\n",
            "2022-08-15 14:31:57 (15.9 MB/s) - ‘keras_input.zip’ saved [208745172/208745172]\n",
            "\n",
            "Archive:  keras_input.zip\n",
            "warning:  stripped absolute path spec from /\n",
            "mapname:  conversion of  failed\n",
            " extracting: mnbs_et.npy             \n",
            " extracting: mnbs_xy.npy             \n",
            " extracting: mnbs_mask.npy           \n",
            " extracting: mnbs_rphi.npy           \n",
            " extracting: mnbs_etrn.npy           \n",
            " extracting: signal_xy.npy           \n",
            " extracting: signal_et.npy           \n",
            " extracting: cosmics_xy.npy          \n",
            " extracting: cosmics_et.npy          \n",
            " extracting: signal_rphi.npy         \n",
            " extracting: signal_etrn.npy         \n",
            " extracting: signal_mask.npy         \n",
            " extracting: cosmics_rphi.npy        \n",
            " extracting: cosmics_mask.npy        \n",
            " extracting: cosmics_etrn.npy        \n"
          ]
        }
      ],
      "source": [
        "print(\"\\n =========> Fetching input data \\n\")\n",
        "\n",
        "!wget https://www.dropbox.com/s/ad08fg4c132nzvo/keras_input.zip?dl=0 -O keras_input.zip\n",
        "\n",
        "!unzip keras_input.zip\n",
        "\n",
        "data_folder = \".\""
      ]
    },
    {
      "cell_type": "markdown",
      "metadata": {
        "id": "mZmezFRRIyC7"
      },
      "source": [
        "The three datasets are saved as dictionaries with 4 components:\n",
        "<u1 type=\"circle\">\n",
        "<li>\"points\": Point Cloud (xy coordinates of each hit of a cluster) - 50 maximum hits </li>\n",
        "<li>\"features\": Energy and Time of each hit of a cluster - 50 maximum hits</li>\n",
        "<li>\"mask\": Mask to distinguish real hits (filled with 1, the others are filled with 0) in a cluster</li>\n",
        "<li>\"summary\": Energy, Time, Centroid Radius, and Number of active cells for a cluster</li>\n",
        "<br>\n",
        "The MC data has been filtered with ROOT\n",
        "using two pre-selection cuts:\n",
        "E > 50 MeV  &&  R > 480 mm <br>\n",
        "The cuts are necessary because in the low-energy and low-radius region the \n",
        "background due to the beam is too high\n"
      ]
    },
    {
      "cell_type": "code",
      "execution_count": 3,
      "metadata": {
        "id": "PoBFuNxFIPd-"
      },
      "outputs": [],
      "source": [
        "name_map = {\"points\": \"xy\", \"features\": \"et\", \"mask\": \"mask\", \"summary\": \"etrn\"}\n",
        "\n",
        "signal  = {key: np.load(f\"{data_folder}/signal_{ name_map[key]}.npy\") for key in name_map}\n",
        "\n",
        "mnbs    = {key: np.load(f\"{data_folder}/mnbs_{   name_map[key]}.npy\") for key in name_map}\n",
        "\n",
        "cosmics = {key: np.load(f\"{data_folder}/cosmics_{name_map[key]}.npy\") for key in name_map}"
      ]
    },
    {
      "cell_type": "markdown",
      "metadata": {
        "id": "bsCqUqleJy6G"
      },
      "source": [
        "# Data Visualization\n",
        "Hits on the calorimeter for N = 10 random events per each event type are shown"
      ]
    },
    {
      "cell_type": "code",
      "execution_count": 4,
      "metadata": {
        "colab": {
          "base_uri": "https://localhost:8080/",
          "height": 1000
        },
        "id": "5urXL2LZKO1U",
        "outputId": "3c26205b-2efc-4213-a85b-f9c3f25e57b6"
      },
      "outputs": [
        {
          "output_type": "display_data",
          "data": {
            "text/plain": [
              "<Figure size 900x600 with 2 Axes>"
            ],
            "image/png": "[encoded data removed]"
          },
          "metadata": {
            "needs_background": "light"
          }
        },
        {
          "output_type": "stream",
          "name": "stdout",
          "text": [
            " =========> Saved 10 random clusters from signal events\n"
          ]
        },
        {
          "output_type": "display_data",
          "data": {
            "text/plain": [
              "<Figure size 900x600 with 2 Axes>"
            ],
            "image/png": "[encoded data removed]"
          },
          "metadata": {
            "needs_background": "light"
          }
        },
        {
          "output_type": "stream",
          "name": "stdout",
          "text": [
            " =========> Saved 10 random clusters from min-bias events\n"
          ]
        },
        {
          "output_type": "display_data",
          "data": {
            "text/plain": [
              "<Figure size 900x600 with 2 Axes>"
            ],
            "image/png": "[encoded data removed]"
          },
          "metadata": {
            "needs_background": "light"
          }
        },
        {
          "output_type": "stream",
          "name": "stdout",
          "text": [
            " =========> Saved 10 random clusters from cosmic events\n"
          ]
        }
      ],
      "source": [
        "channels = [signal, mnbs, cosmics]\n",
        "ch_names = [\"signal\", \"min-bias\", \"cosmic\"]\n",
        "\n",
        "cmap = plt.get_cmap('viridis', 20)\n",
        "cmap.set_under('white')\n",
        "\n",
        "N = 10  #Number of events shown\n",
        "\n",
        "images_dir = './images'\n",
        "if not os.path.isdir(images_dir):\n",
        "    os.makedirs(images_dir)\n",
        "\n",
        "for ch, name in zip(channels, ch_names):\n",
        "\n",
        "  evs = np.random.randint(0, high=len(ch[\"points\"]), size=N, dtype=int)\n",
        "  fig = plt.figure(figsize=(15, 10), dpi=60)\n",
        "  plt.scatter(cosmics[\"points\"][:, :, 0], cosmics[\"points\"][:, :, 1], marker=\"s\", s=80, color=\"lightgrey\")\n",
        "  arr_xy = ch[\"points\"][evs]\n",
        "  x, y = arr_xy[:, :, 0], arr_xy[:, :, 1]\n",
        "  e = ch[\"features\"][evs][:, :, 0]\n",
        "  plt.scatter(x, y, c=e, cmap=cmap, vmin=1, marker=\"s\", s=80)\n",
        "  plt.title(f\"{N} random clusters from {name} events\", fontsize=22)\n",
        "  plt.xlabel(\"X [mm]\", fontsize=22)\n",
        "  plt.ylabel(\"Y [mm]\", fontsize=22)\n",
        "  plt.xticks(fontsize=22)\n",
        "  plt.yticks(fontsize=22)\n",
        "  clb = plt.colorbar()\n",
        "  clb.ax.set_title('Energy [MeV]',fontsize=22)\n",
        "  clb.ax.tick_params(labelsize=22)\n",
        "\n",
        "  plt_name= f\"{N}_{name}_events.png\"\n",
        "  filepath_imm = os.path.join(images_dir, plt_name)\n",
        "  fig.savefig(filepath_imm)\n",
        "  plt.show() \n",
        "  print(f\" =========> Saved {N} random clusters from {name} events\")"
      ]
    },
    {
      "cell_type": "markdown",
      "metadata": {
        "id": "B2dh0-3CZ58D"
      },
      "source": [
        "# Training\n",
        "The MC samples are weighted to match the expected ratios in one injection cycle. \n",
        "\n",
        "\n",
        "Real expected cluster on upstream disk in one injection cycle (1.33s):<br>\n",
        "RMC: 330 <br>\n",
        "MNBS: 1.3M <br>\n",
        "cosmics: 4 <br> <br>\n",
        "\n",
        "MC cluster on upstream disk:<br>\n",
        "RMC: 150k<br>\n",
        "MNBS: 5.25M<br>\n",
        "cosmics: 53k\n",
        "\n",
        "\n"
      ]
    },
    {
      "cell_type": "code",
      "execution_count": 5,
      "metadata": {
        "id": "o3Y3bYYxKh4S"
      },
      "outputs": [],
      "source": [
        "signal_weight = 330/150e3 * 100\n",
        "mnbs_weight = 1.3/5.25 * 100\n",
        "cosmics_weight = 4/53e3 * 100"
      ]
    },
    {
      "cell_type": "markdown",
      "metadata": {
        "id": "O_iGVIMplvJI"
      },
      "source": [
        "The samples are merged into a unique dataset, which is then shuffled, saving also labels and weights\n"
      ]
    },
    {
      "cell_type": "code",
      "execution_count": 6,
      "metadata": {
        "id": "WfOLGgislrte"
      },
      "outputs": [],
      "source": [
        "S =  signal[\"mask\"].shape[0] \n",
        "F =    mnbs[\"mask\"].shape[0] \n",
        "C = cosmics[\"mask\"].shape[0]\n",
        "\n",
        "N = S + F + C\n",
        "\n",
        "p = np.random.permutation(N) "
      ]
    },
    {
      "cell_type": "code",
      "execution_count": 7,
      "metadata": {
        "colab": {
          "base_uri": "https://localhost:8080/"
        },
        "id": "gKB57M30l2eD",
        "outputId": "ec11ce92-6084-443f-ce08-21952924aa3f"
      },
      "outputs": [
        {
          "output_type": "stream",
          "name": "stdout",
          "text": [
            "- Entries for signal, mnbs and cosmics:[41372, 1132, 41598]\n",
            "- Weigths for signal, mnbs and cosmics:[0.22, 24.761904761904763, 0.007547169811320755]\n"
          ]
        }
      ],
      "source": [
        "data = {key: np.concatenate( (signal[key], mnbs[key], cosmics[key]) )[p] for key in name_map}\n",
        "\n",
        "label_list = [1, 0, 0]\n",
        "entries_list = [S, F, C]\n",
        "weight_list = [signal_weight, mnbs_weight, cosmics_weight]\n",
        "\n",
        "print(f\"- Entries for signal, mnbs and cosmics:{entries_list}\")\n",
        "print(f\"- Weigths for signal, mnbs and cosmics:{weight_list}\")\n",
        "\n",
        "label = np.concatenate( \n",
        "    [ np.ones((e))*l for e, l in zip(entries_list,  label_list) ]\n",
        ")[p]\n",
        "\n",
        "sample_weight = np.concatenate( \n",
        "    [ np.ones((e))*w for e, w in zip(entries_list, weight_list) ]\n",
        ")[p]\n"
      ]
    },
    {
      "cell_type": "markdown",
      "metadata": {
        "id": "cyci22mbmglv"
      },
      "source": [
        "Data is normalized to help the training"
      ]
    },
    {
      "cell_type": "code",
      "execution_count": 8,
      "metadata": {
        "id": "ok4VwPS7mbGC"
      },
      "outputs": [],
      "source": [
        "from sklearn.preprocessing import StandardScaler\n",
        "import copy\n",
        "scaler = StandardScaler()\n",
        "\n",
        "virgin_data = copy.deepcopy(data)\n",
        "\n",
        "for key in [\"points\", \"features\"]:\n",
        "  data[key][data[\"mask\"].reshape(N, 50)] = scaler.fit_transform(data[key][data[\"mask\"].reshape(N, 50)])\n",
        "\n",
        "data[\"summary\"] = scaler.fit_transform(data[\"summary\"])"
      ]
    },
    {
      "cell_type": "markdown",
      "metadata": {
        "id": "KCMYU5ykmwY2"
      },
      "source": [
        "The dataset is divided in training, test and validation with a ratio 7:2:1"
      ]
    },
    {
      "cell_type": "code",
      "execution_count": 9,
      "metadata": {
        "id": "DHfxelTFmpO8"
      },
      "outputs": [],
      "source": [
        "train_data  = {key: data[key][int(N*0.0) : int(N*0.7)] for key in name_map}\n",
        "test_data   = {key: data[key][int(N*0.7) : int(N*0.9)] for key in name_map}\n",
        "val_data    = {key: data[key][int(N*0.9) : int(N*1.0)] for key in name_map}\n",
        "\n",
        "train_label = label[int(N*0.0) : int(N*0.7)]\n",
        "test_label  = label[int(N*0.7) : int(N*0.9)]\n",
        "val_label   = label[int(N*0.9) : int(N*1.0)]\n",
        "\n",
        "train_weight = sample_weight[int(N*0.0) : int(N*0.7)]\n",
        "test_weight  = sample_weight[int(N*0.7) : int(N*0.9)]\n",
        "val_weight   = sample_weight[int(N*0.9) : int(N*1.0)]"
      ]
    },
    {
      "cell_type": "markdown",
      "metadata": {
        "id": "mELi2kJrnOYs"
      },
      "source": [
        "The custom model is imported from the GitHub repo"
      ]
    },
    {
      "cell_type": "code",
      "execution_count": 10,
      "metadata": {
        "colab": {
          "base_uri": "https://localhost:8080/"
        },
        "id": "g9C55js5nEqo",
        "outputId": "e306722b-8bb2-4782-fffa-6a0b2a5a1794"
      },
      "outputs": [
        {
          "output_type": "stream",
          "name": "stdout",
          "text": [
            "\n",
            " =========> Downloading the custom model from GitHub\n",
            "\n",
            "--2022-08-15 14:32:32--  https://raw.githubusercontent.com/elisasanzani/Software_and_Computing_Project/main/tf_keras_model.py\n",
            "Resolving raw.githubusercontent.com (raw.githubusercontent.com)... 185.199.108.133, 185.199.109.133, 185.199.110.133, ...\n",
            "Connecting to raw.githubusercontent.com (raw.githubusercontent.com)|185.199.108.133|:443... connected.\n",
            "HTTP request sent, awaiting response... 200 OK\n",
            "Length: 8734 (8.5K) [text/plain]\n",
            "Saving to: ‘tf_keras_model.py’\n",
            "\n",
            "tf_keras_model.py   100%[===================>]   8.53K  --.-KB/s    in 0s      \n",
            "\n",
            "2022-08-15 14:32:33 (56.9 MB/s) - ‘tf_keras_model.py’ saved [8734/8734]\n",
            "\n"
          ]
        }
      ],
      "source": [
        "print(\"\\n =========> Downloading the custom model from GitHub\\n\")\n",
        "\n",
        "!wget https://raw.githubusercontent.com/elisasanzani/Software_and_Computing_Project/main/tf_keras_model.py -O tf_keras_model.py\n",
        "\n",
        "import tensorflow as tf\n",
        "from tensorflow import keras\n",
        "from tf_keras_model import get_particle_net_lite_custom"
      ]
    },
    {
      "cell_type": "code",
      "execution_count": 11,
      "metadata": {
        "id": "GHwxVx7VSz-E"
      },
      "outputs": [],
      "source": [
        "input_shapes = {'points': (50, 2), 'features': (50, 2), 'mask':(50, 1)}\n",
        "\n",
        "model = get_particle_net_lite_custom(input_shapes)"
      ]
    },
    {
      "cell_type": "markdown",
      "metadata": {
        "id": "PQpOHaCrS4-h"
      },
      "source": [
        "Training parameters"
      ]
    },
    {
      "cell_type": "code",
      "execution_count": 12,
      "metadata": {
        "id": "KoiwD6uyS7zL"
      },
      "outputs": [],
      "source": [
        "batch_size = 1024\n",
        "epochs = 30"
      ]
    },
    {
      "cell_type": "markdown",
      "metadata": {
        "id": "HwefnhKsS_LJ"
      },
      "source": [
        "Learning Rate <br>\n",
        "It is exponentially decreased by a factor 0.1 every 10 epochs, for a maximum of 30 epochs."
      ]
    },
    {
      "cell_type": "code",
      "execution_count": 13,
      "metadata": {
        "id": "vWqRN0G7TLGz"
      },
      "outputs": [],
      "source": [
        "def lr_schedule(epoch):\n",
        "    lr = 1e-2\n",
        "    if epoch > 10:\n",
        "        lr *= 0.1\n",
        "    elif epoch > 20:\n",
        "        lr *= 0.01\n",
        "    logging.info('Learning rate: %f'%lr)\n",
        "    return lr"
      ]
    },
    {
      "cell_type": "markdown",
      "metadata": {
        "id": "iSq5swUCTcj9"
      },
      "source": [
        "Compilation of the model<br>\n",
        "All losses and metrics are weighted to match the real statistics<br>\n",
        "- Loss: Binary Crossentropy <br>\n",
        "- Metric: Area Under Precision Recall Curve (AUPRC) <br>\n",
        "- Optimizer: Adam"
      ]
    },
    {
      "cell_type": "code",
      "execution_count": 14,
      "metadata": {
        "colab": {
          "base_uri": "https://localhost:8080/"
        },
        "id": "PI_7kptmTR1b",
        "outputId": "178eed41-ccc3-4949-8fbf-134763619906"
      },
      "outputs": [
        {
          "output_type": "stream",
          "name": "stdout",
          "text": [
            "\n",
            " =========> Compiling the model\n",
            "\n",
            "Model: \"ParticleNet\"\n",
            "__________________________________________________________________________________________________\n",
            " Layer (type)                   Output Shape         Param #     Connected to                     \n",
            "==================================================================================================\n",
            " mask (InputLayer)              [(None, 50, 1)]      0           []                               \n",
            "                                                                                                  \n",
            " tf.math.not_equal (TFOpLambda)  (None, 50, 1)       0           ['mask[0][0]']                   \n",
            "                                                                                                  \n",
            " tf.cast (TFOpLambda)           (None, 50, 1)        0           ['tf.math.not_equal[0][0]']      \n",
            "                                                                                                  \n",
            " tf.math.equal (TFOpLambda)     (None, 50, 1)        0           ['tf.cast[0][0]']                \n",
            "                                                                                                  \n",
            " tf.cast_1 (TFOpLambda)         (None, 50, 1)        0           ['tf.math.equal[0][0]']          \n",
            "                                                                                                  \n",
            " tf.math.multiply (TFOpLambda)  (None, 50, 1)        0           ['tf.cast_1[0][0]']              \n",
            "                                                                                                  \n",
            " points (InputLayer)            [(None, 50, 2)]      0           []                               \n",
            "                                                                                                  \n",
            " tf.math.add (TFOpLambda)       (None, 50, 2)        0           ['tf.math.multiply[0][0]',       \n",
            "                                                                  'points[0][0]']                 \n",
            "                                                                                                  \n",
            " features (InputLayer)          [(None, 50, 2)]      0           []                               \n",
            "                                                                                                  \n",
            " tf.compat.v1.transpose (TFOpLa  (None, 2, 50)       0           ['tf.math.add[0][0]']            \n",
            " mbda)                                                                                            \n",
            "                                                                                                  \n",
            " tf.expand_dims (TFOpLambda)    (None, 50, 1, 2)     0           ['features[0][0]']               \n",
            "                                                                                                  \n",
            " tf.math.multiply_1 (TFOpLambda  (None, 50, 2)       0           ['tf.math.add[0][0]',            \n",
            " )                                                                'tf.math.add[0][0]']            \n",
            "                                                                                                  \n",
            " tf.linalg.matmul (TFOpLambda)  (None, 50, 50)       0           ['tf.math.add[0][0]',            \n",
            "                                                                  'tf.compat.v1.transpose[0][0]'] \n",
            "                                                                                                  \n",
            " tf.math.multiply_2 (TFOpLambda  (None, 50, 2)       0           ['tf.math.add[0][0]',            \n",
            " )                                                                'tf.math.add[0][0]']            \n",
            "                                                                                                  \n",
            " ParticleNet_fts_bn (BatchNorma  (None, 50, 1, 2)    8           ['tf.expand_dims[0][0]']         \n",
            " lization)                                                                                        \n",
            "                                                                                                  \n",
            " tf.math.reduce_sum (TFOpLambda  (None, 50, 1)       0           ['tf.math.multiply_1[0][0]']     \n",
            " )                                                                                                \n",
            "                                                                                                  \n",
            " tf.math.multiply_3 (TFOpLambda  (None, 50, 50)      0           ['tf.linalg.matmul[0][0]']       \n",
            " )                                                                                                \n",
            "                                                                                                  \n",
            " tf.math.reduce_sum_1 (TFOpLamb  (None, 50, 1)       0           ['tf.math.multiply_2[0][0]']     \n",
            " da)                                                                                              \n",
            "                                                                                                  \n",
            " tf.compat.v1.squeeze (TFOpLamb  (None, 50, 2)       0           ['ParticleNet_fts_bn[0][0]']     \n",
            " da)                                                                                              \n",
            "                                                                                                  \n",
            " tf.math.subtract (TFOpLambda)  (None, 50, 50)       0           ['tf.math.reduce_sum[0][0]',     \n",
            "                                                                  'tf.math.multiply_3[0][0]']     \n",
            "                                                                                                  \n",
            " tf.compat.v1.transpose_1 (TFOp  (None, 1, 50)       0           ['tf.math.reduce_sum_1[0][0]']   \n",
            " Lambda)                                                                                          \n",
            "                                                                                                  \n",
            " tf.compat.v1.shape (TFOpLambda  (3,)                0           ['tf.compat.v1.squeeze[0][0]']   \n",
            " )                                                                                                \n",
            "                                                                                                  \n",
            " tf.__operators__.add (TFOpLamb  (None, 50, 50)      0           ['tf.math.subtract[0][0]',       \n",
            " da)                                                              'tf.compat.v1.transpose_1[0][0]'\n",
            "                                                                 ]                                \n",
            "                                                                                                  \n",
            " tf.__operators__.getitem_1 (Sl  ()                  0           ['tf.compat.v1.shape[0][0]']     \n",
            " icingOpLambda)                                                                                   \n",
            "                                                                                                  \n",
            " tf.math.negative (TFOpLambda)  (None, 50, 50)       0           ['tf.__operators__.add[0][0]']   \n",
            "                                                                                                  \n",
            " tf.range (TFOpLambda)          (None,)              0           ['tf.__operators__.getitem_1[0][0\n",
            "                                                                 ]']                              \n",
            "                                                                                                  \n",
            " tf.math.top_k (TFOpLambda)     TopKV2(values=(None  0           ['tf.math.negative[0][0]']       \n",
            "                                , 50, 4),                                                         \n",
            "                                 indices=(None, 50,                                               \n",
            "                                 4))                                                              \n",
            "                                                                                                  \n",
            " tf.reshape (TFOpLambda)        (None, 1, 1, 1)      0           ['tf.range[0][0]']               \n",
            "                                                                                                  \n",
            " tf.__operators__.getitem (Slic  (None, 50, 3)       0           ['tf.math.top_k[0][1]']          \n",
            " ingOpLambda)                                                                                     \n",
            "                                                                                                  \n",
            " tf.tile (TFOpLambda)           (None, 50, 3, 1)     0           ['tf.reshape[0][0]']             \n",
            "                                                                                                  \n",
            " tf.expand_dims_1 (TFOpLambda)  (None, 50, 3, 1)     0           ['tf.__operators__.getitem[0][0]'\n",
            "                                                                 ]                                \n",
            "                                                                                                  \n",
            " tf.expand_dims_2 (TFOpLambda)  (None, 50, 1, 2)     0           ['tf.compat.v1.squeeze[0][0]']   \n",
            "                                                                                                  \n",
            " tf.concat (TFOpLambda)         (None, 50, 3, 2)     0           ['tf.tile[0][0]',                \n",
            "                                                                  'tf.expand_dims_1[0][0]']       \n",
            "                                                                                                  \n",
            " tf.tile_1 (TFOpLambda)         (None, 50, 3, 2)     0           ['tf.expand_dims_2[0][0]']       \n",
            "                                                                                                  \n",
            " tf.compat.v1.gather_nd (TFOpLa  (None, 50, 3, 2)    0           ['tf.compat.v1.squeeze[0][0]',   \n",
            " mbda)                                                            'tf.concat[0][0]']              \n",
            "                                                                                                  \n",
            " tf.math.subtract_1 (TFOpLambda  (None, 50, 3, 2)    0           ['tf.compat.v1.gather_nd[0][0]', \n",
            " )                                                                'tf.tile_1[0][0]']              \n",
            "                                                                                                  \n",
            " tf.concat_1 (TFOpLambda)       (None, 50, 3, 4)     0           ['tf.tile_1[0][0]',              \n",
            "                                                                  'tf.math.subtract_1[0][0]']     \n",
            "                                                                                                  \n",
            " ParticleNet_EdgeConv0_conv0 (C  (None, 50, 3, 16)   64          ['tf.concat_1[0][0]']            \n",
            " onv2D)                                                                                           \n",
            "                                                                                                  \n",
            " ParticleNet_EdgeConv0_bn0 (Bat  (None, 50, 3, 16)   64          ['ParticleNet_EdgeConv0_conv0[0][\n",
            " chNormalization)                                                0]']                             \n",
            "                                                                                                  \n",
            " ParticleNet_EdgeConv0_act0 (Ac  (None, 50, 3, 16)   0           ['ParticleNet_EdgeConv0_bn0[0][0]\n",
            " tivation)                                                       ']                               \n",
            "                                                                                                  \n",
            " ParticleNet_EdgeConv0_conv1 (C  (None, 50, 3, 16)   256         ['ParticleNet_EdgeConv0_act0[0][0\n",
            " onv2D)                                                          ]']                              \n",
            "                                                                                                  \n",
            " ParticleNet_EdgeConv0_bn1 (Bat  (None, 50, 3, 16)   64          ['ParticleNet_EdgeConv0_conv1[0][\n",
            " chNormalization)                                                0]']                             \n",
            "                                                                                                  \n",
            " ParticleNet_EdgeConv0_act1 (Ac  (None, 50, 3, 16)   0           ['ParticleNet_EdgeConv0_bn1[0][0]\n",
            " tivation)                                                       ']                               \n",
            "                                                                                                  \n",
            " tf.expand_dims_3 (TFOpLambda)  (None, 50, 1, 2)     0           ['tf.compat.v1.squeeze[0][0]']   \n",
            "                                                                                                  \n",
            " ParticleNet_EdgeConv0_conv2 (C  (None, 50, 3, 16)   256         ['ParticleNet_EdgeConv0_act1[0][0\n",
            " onv2D)                                                          ]']                              \n",
            "                                                                                                  \n",
            " ParticleNet_EdgeConv0_sc_conv   (None, 50, 1, 16)   32          ['tf.expand_dims_3[0][0]']       \n",
            " (Conv2D)                                                                                         \n",
            "                                                                                                  \n",
            " ParticleNet_EdgeConv0_bn2 (Bat  (None, 50, 3, 16)   64          ['ParticleNet_EdgeConv0_conv2[0][\n",
            " chNormalization)                                                0]']                             \n",
            "                                                                                                  \n",
            " ParticleNet_EdgeConv0_sc_bn (B  (None, 50, 1, 16)   64          ['ParticleNet_EdgeConv0_sc_conv[0\n",
            " atchNormalization)                                              ][0]']                           \n",
            "                                                                                                  \n",
            " ParticleNet_EdgeConv0_act2 (Ac  (None, 50, 3, 16)   0           ['ParticleNet_EdgeConv0_bn2[0][0]\n",
            " tivation)                                                       ']                               \n",
            "                                                                                                  \n",
            " tf.compat.v1.squeeze_1 (TFOpLa  (None, 50, 16)      0           ['ParticleNet_EdgeConv0_sc_bn[0][\n",
            " mbda)                                                           0]']                             \n",
            "                                                                                                  \n",
            " tf.math.reduce_max (TFOpLambda  (None, 50, 16)      0           ['ParticleNet_EdgeConv0_act2[0][0\n",
            " )                                                               ]']                              \n",
            "                                                                                                  \n",
            " tf.__operators__.add_1 (TFOpLa  (None, 50, 16)      0           ['tf.compat.v1.squeeze_1[0][0]', \n",
            " mbda)                                                            'tf.math.reduce_max[0][0]']     \n",
            "                                                                                                  \n",
            " ParticleNet_EdgeConv0_sc_act (  (None, 50, 16)      0           ['tf.__operators__.add_1[0][0]'] \n",
            " Activation)                                                                                      \n",
            "                                                                                                  \n",
            " tf.math.add_1 (TFOpLambda)     (None, 50, 16)       0           ['tf.math.multiply[0][0]',       \n",
            "                                                                  'ParticleNet_EdgeConv0_sc_act[0]\n",
            "                                                                 [0]']                            \n",
            "                                                                                                  \n",
            " tf.compat.v1.transpose_2 (TFOp  (None, 16, 50)      0           ['tf.math.add_1[0][0]']          \n",
            " Lambda)                                                                                          \n",
            "                                                                                                  \n",
            " tf.math.multiply_4 (TFOpLambda  (None, 50, 16)      0           ['tf.math.add_1[0][0]',          \n",
            " )                                                                'tf.math.add_1[0][0]']          \n",
            "                                                                                                  \n",
            " tf.linalg.matmul_1 (TFOpLambda  (None, 50, 50)      0           ['tf.math.add_1[0][0]',          \n",
            " )                                                                'tf.compat.v1.transpose_2[0][0]'\n",
            "                                                                 ]                                \n",
            "                                                                                                  \n",
            " tf.math.multiply_5 (TFOpLambda  (None, 50, 16)      0           ['tf.math.add_1[0][0]',          \n",
            " )                                                                'tf.math.add_1[0][0]']          \n",
            "                                                                                                  \n",
            " tf.math.reduce_sum_2 (TFOpLamb  (None, 50, 1)       0           ['tf.math.multiply_4[0][0]']     \n",
            " da)                                                                                              \n",
            "                                                                                                  \n",
            " tf.math.multiply_6 (TFOpLambda  (None, 50, 50)      0           ['tf.linalg.matmul_1[0][0]']     \n",
            " )                                                                                                \n",
            "                                                                                                  \n",
            " tf.math.reduce_sum_3 (TFOpLamb  (None, 50, 1)       0           ['tf.math.multiply_5[0][0]']     \n",
            " da)                                                                                              \n",
            "                                                                                                  \n",
            " tf.math.subtract_2 (TFOpLambda  (None, 50, 50)      0           ['tf.math.reduce_sum_2[0][0]',   \n",
            " )                                                                'tf.math.multiply_6[0][0]']     \n",
            "                                                                                                  \n",
            " tf.compat.v1.transpose_3 (TFOp  (None, 1, 50)       0           ['tf.math.reduce_sum_3[0][0]']   \n",
            " Lambda)                                                                                          \n",
            "                                                                                                  \n",
            " tf.compat.v1.shape_1 (TFOpLamb  (3,)                0           ['ParticleNet_EdgeConv0_sc_act[0]\n",
            " da)                                                             [0]']                            \n",
            "                                                                                                  \n",
            " tf.__operators__.add_2 (TFOpLa  (None, 50, 50)      0           ['tf.math.subtract_2[0][0]',     \n",
            " mbda)                                                            'tf.compat.v1.transpose_3[0][0]'\n",
            "                                                                 ]                                \n",
            "                                                                                                  \n",
            " tf.__operators__.getitem_3 (Sl  ()                  0           ['tf.compat.v1.shape_1[0][0]']   \n",
            " icingOpLambda)                                                                                   \n",
            "                                                                                                  \n",
            " tf.math.negative_1 (TFOpLambda  (None, 50, 50)      0           ['tf.__operators__.add_2[0][0]'] \n",
            " )                                                                                                \n",
            "                                                                                                  \n",
            " tf.range_1 (TFOpLambda)        (None,)              0           ['tf.__operators__.getitem_3[0][0\n",
            "                                                                 ]']                              \n",
            "                                                                                                  \n",
            " tf.math.top_k_1 (TFOpLambda)   TopKV2(values=(None  0           ['tf.math.negative_1[0][0]']     \n",
            "                                , 50, 4),                                                         \n",
            "                                 indices=(None, 50,                                               \n",
            "                                 4))                                                              \n",
            "                                                                                                  \n",
            " tf.reshape_1 (TFOpLambda)      (None, 1, 1, 1)      0           ['tf.range_1[0][0]']             \n",
            "                                                                                                  \n",
            " tf.__operators__.getitem_2 (Sl  (None, 50, 3)       0           ['tf.math.top_k_1[0][1]']        \n",
            " icingOpLambda)                                                                                   \n",
            "                                                                                                  \n",
            " tf.tile_2 (TFOpLambda)         (None, 50, 3, 1)     0           ['tf.reshape_1[0][0]']           \n",
            "                                                                                                  \n",
            " tf.expand_dims_4 (TFOpLambda)  (None, 50, 3, 1)     0           ['tf.__operators__.getitem_2[0][0\n",
            "                                                                 ]']                              \n",
            "                                                                                                  \n",
            " tf.expand_dims_5 (TFOpLambda)  (None, 50, 1, 16)    0           ['ParticleNet_EdgeConv0_sc_act[0]\n",
            "                                                                 [0]']                            \n",
            "                                                                                                  \n",
            " tf.concat_2 (TFOpLambda)       (None, 50, 3, 2)     0           ['tf.tile_2[0][0]',              \n",
            "                                                                  'tf.expand_dims_4[0][0]']       \n",
            "                                                                                                  \n",
            " tf.tile_3 (TFOpLambda)         (None, 50, 3, 16)    0           ['tf.expand_dims_5[0][0]']       \n",
            "                                                                                                  \n",
            " tf.compat.v1.gather_nd_1 (TFOp  (None, 50, 3, 16)   0           ['ParticleNet_EdgeConv0_sc_act[0]\n",
            " Lambda)                                                         [0]',                            \n",
            "                                                                  'tf.concat_2[0][0]']            \n",
            "                                                                                                  \n",
            " tf.math.subtract_3 (TFOpLambda  (None, 50, 3, 16)   0           ['tf.compat.v1.gather_nd_1[0][0]'\n",
            " )                                                               , 'tf.tile_3[0][0]']             \n",
            "                                                                                                  \n",
            " tf.concat_3 (TFOpLambda)       (None, 50, 3, 32)    0           ['tf.tile_3[0][0]',              \n",
            "                                                                  'tf.math.subtract_3[0][0]']     \n",
            "                                                                                                  \n",
            " ParticleNet_EdgeConv1_conv0 (C  (None, 50, 3, 32)   1024        ['tf.concat_3[0][0]']            \n",
            " onv2D)                                                                                           \n",
            "                                                                                                  \n",
            " ParticleNet_EdgeConv1_bn0 (Bat  (None, 50, 3, 32)   128         ['ParticleNet_EdgeConv1_conv0[0][\n",
            " chNormalization)                                                0]']                             \n",
            "                                                                                                  \n",
            " ParticleNet_EdgeConv1_act0 (Ac  (None, 50, 3, 32)   0           ['ParticleNet_EdgeConv1_bn0[0][0]\n",
            " tivation)                                                       ']                               \n",
            "                                                                                                  \n",
            " ParticleNet_EdgeConv1_conv1 (C  (None, 50, 3, 32)   1024        ['ParticleNet_EdgeConv1_act0[0][0\n",
            " onv2D)                                                          ]']                              \n",
            "                                                                                                  \n",
            " ParticleNet_EdgeConv1_bn1 (Bat  (None, 50, 3, 32)   128         ['ParticleNet_EdgeConv1_conv1[0][\n",
            " chNormalization)                                                0]']                             \n",
            "                                                                                                  \n",
            " ParticleNet_EdgeConv1_act1 (Ac  (None, 50, 3, 32)   0           ['ParticleNet_EdgeConv1_bn1[0][0]\n",
            " tivation)                                                       ']                               \n",
            "                                                                                                  \n",
            " tf.expand_dims_6 (TFOpLambda)  (None, 50, 1, 16)    0           ['ParticleNet_EdgeConv0_sc_act[0]\n",
            "                                                                 [0]']                            \n",
            "                                                                                                  \n",
            " ParticleNet_EdgeConv1_conv2 (C  (None, 50, 3, 32)   1024        ['ParticleNet_EdgeConv1_act1[0][0\n",
            " onv2D)                                                          ]']                              \n",
            "                                                                                                  \n",
            " ParticleNet_EdgeConv1_sc_conv   (None, 50, 1, 32)   512         ['tf.expand_dims_6[0][0]']       \n",
            " (Conv2D)                                                                                         \n",
            "                                                                                                  \n",
            " ParticleNet_EdgeConv1_bn2 (Bat  (None, 50, 3, 32)   128         ['ParticleNet_EdgeConv1_conv2[0][\n",
            " chNormalization)                                                0]']                             \n",
            "                                                                                                  \n",
            " ParticleNet_EdgeConv1_sc_bn (B  (None, 50, 1, 32)   128         ['ParticleNet_EdgeConv1_sc_conv[0\n",
            " atchNormalization)                                              ][0]']                           \n",
            "                                                                                                  \n",
            " ParticleNet_EdgeConv1_act2 (Ac  (None, 50, 3, 32)   0           ['ParticleNet_EdgeConv1_bn2[0][0]\n",
            " tivation)                                                       ']                               \n",
            "                                                                                                  \n",
            " tf.compat.v1.squeeze_2 (TFOpLa  (None, 50, 32)      0           ['ParticleNet_EdgeConv1_sc_bn[0][\n",
            " mbda)                                                           0]']                             \n",
            "                                                                                                  \n",
            " tf.math.reduce_max_1 (TFOpLamb  (None, 50, 32)      0           ['ParticleNet_EdgeConv1_act2[0][0\n",
            " da)                                                             ]']                              \n",
            "                                                                                                  \n",
            " tf.__operators__.add_3 (TFOpLa  (None, 50, 32)      0           ['tf.compat.v1.squeeze_2[0][0]', \n",
            " mbda)                                                            'tf.math.reduce_max_1[0][0]']   \n",
            "                                                                                                  \n",
            " ParticleNet_EdgeConv1_sc_act (  (None, 50, 32)      0           ['tf.__operators__.add_3[0][0]'] \n",
            " Activation)                                                                                      \n",
            "                                                                                                  \n",
            " tf.math.multiply_7 (TFOpLambda  (None, 50, 32)      0           ['ParticleNet_EdgeConv1_sc_act[0]\n",
            " )                                                               [0]',                            \n",
            "                                                                  'tf.cast[0][0]']                \n",
            "                                                                                                  \n",
            " tf.math.reduce_mean (TFOpLambd  (None, 32)          0           ['tf.math.multiply_7[0][0]']     \n",
            " a)                                                                                               \n",
            "                                                                                                  \n",
            " summary (InputLayer)           [(None, 4)]          0           []                               \n",
            "                                                                                                  \n",
            " tf.concat_4 (TFOpLambda)       (None, 36)           0           ['tf.math.reduce_mean[0][0]',    \n",
            "                                                                  'summary[0][0]']                \n",
            "                                                                                                  \n",
            " dense (Dense)                  (None, 64)           2368        ['tf.concat_4[0][0]']            \n",
            "                                                                                                  \n",
            " dropout (Dropout)              (None, 64)           0           ['dense[0][0]']                  \n",
            "                                                                                                  \n",
            " dense_1 (Dense)                (None, 1)            65          ['dropout[0][0]']                \n",
            "                                                                                                  \n",
            "==================================================================================================\n",
            "Total params: 7,401\n",
            "Trainable params: 7,013\n",
            "Non-trainable params: 388\n",
            "__________________________________________________________________________________________________\n"
          ]
        }
      ],
      "source": [
        "print(\"\\n =========> Compiling the model\\n\")\n",
        "\n",
        "model.compile(loss='binary_crossentropy',\n",
        "              optimizer=keras.optimizers.Adam(learning_rate=lr_schedule(0)),\n",
        "              weighted_metrics=[keras.metrics.AUC(curve=\"PR\")],\n",
        ")\n",
        "model.summary()"
      ]
    },
    {
      "cell_type": "markdown",
      "metadata": {
        "id": "kORpxE9gUP9N"
      },
      "source": [
        "*Keras* checkpoints are employed to save the model with the best validation AURPC"
      ]
    },
    {
      "cell_type": "code",
      "execution_count": 15,
      "metadata": {
        "id": "0a_zkGKxUTP4"
      },
      "outputs": [],
      "source": [
        "# Prepare model saving directory.\n",
        "save_dir ='model_checkpoints'\n",
        "model_name = 'lite_model-{val_auc:0.2f}-{epoch:03d}.h5'\n",
        "if not os.path.isdir(save_dir):\n",
        "    os.makedirs(save_dir)\n",
        "filepath = os.path.join(save_dir, model_name)\n",
        "\n",
        "# Prepare callbacks for model saving and for learning rate adjustment.\n",
        "checkpoint = keras.callbacks.ModelCheckpoint(\n",
        "    filepath=filepath,\n",
        "    monitor='val_auc',\n",
        "    verbose=1,\n",
        "    )\n",
        "progress_bar = keras.callbacks.ProgbarLogger()\n",
        "lr_scheduler = keras.callbacks.LearningRateScheduler(lr_schedule)\n",
        "\n",
        "callbacks = [checkpoint, progress_bar, lr_scheduler]"
      ]
    },
    {
      "cell_type": "markdown",
      "metadata": {
        "id": "4bM5pTBdUkEr"
      },
      "source": [
        "Model training <br>\n",
        "Model is trained weighting the data to match the real statistics, by means of the sample_weight attribute (for the training). <br>\n",
        "Also the validation set is weighted, in order to select the model with the best performances on the real statistics."
      ]
    },
    {
      "cell_type": "code",
      "execution_count": 16,
      "metadata": {
        "colab": {
          "base_uri": "https://localhost:8080/"
        },
        "id": "_gmLf_PiU1Gf",
        "outputId": "63021261-8177-4bd5-dea1-941379fd5311"
      },
      "outputs": [
        {
          "output_type": "stream",
          "name": "stdout",
          "text": [
            "\n",
            " =========> Starting training\n",
            "\n",
            "Epoch 1/30\n",
            "      0/Unknown - 24s 0s/sample - loss: 0.1388 - auc: 0.7711\n",
            "Epoch 1: saving model to model_checkpoints/lite_model-0.82-001.h5\n",
            "58/58 [==============================] - 27s 470ms/sample - loss: 0.1388 - auc: 0.7711 - val_loss: 0.1736 - val_auc: 0.8247\n",
            "Epoch 2/30\n",
            " 0/58 [..............................] - ETA: 0s - loss: 0.0939 - auc: 0.8996\n",
            "Epoch 2: saving model to model_checkpoints/lite_model-0.86-002.h5\n",
            "58/58 [==============================] - 9s 162ms/sample - loss: 0.0939 - auc: 0.8996 - val_loss: 0.2357 - val_auc: 0.8614\n",
            "Epoch 3/30\n",
            " 0/58 [..............................] - ETA: 0s - loss: 0.0853 - auc: 0.9183\n",
            "Epoch 3: saving model to model_checkpoints/lite_model-0.90-003.h5\n",
            "58/58 [==============================] - 9s 161ms/sample - loss: 0.0853 - auc: 0.9183 - val_loss: 0.1036 - val_auc: 0.9040\n",
            "Epoch 4/30\n",
            " 0/58 [..............................] - ETA: 0s - loss: 0.0777 - auc: 0.9300\n",
            "Epoch 4: saving model to model_checkpoints/lite_model-0.93-004.h5\n",
            "58/58 [==============================] - 9s 163ms/sample - loss: 0.0777 - auc: 0.9300 - val_loss: 0.0814 - val_auc: 0.9254\n",
            "Epoch 5/30\n",
            " 0/58 [..............................] - ETA: 0s - loss: 0.0661 - auc: 0.9503\n",
            "Epoch 5: saving model to model_checkpoints/lite_model-0.92-005.h5\n",
            "58/58 [==============================] - 10s 165ms/sample - loss: 0.0661 - auc: 0.9503 - val_loss: 0.0887 - val_auc: 0.9196\n",
            "Epoch 6/30\n",
            " 0/58 [..............................] - ETA: 0s - loss: 0.0661 - auc: 0.9492\n",
            "Epoch 6: saving model to model_checkpoints/lite_model-0.93-006.h5\n",
            "58/58 [==============================] - 10s 166ms/sample - loss: 0.0661 - auc: 0.9492 - val_loss: 0.0780 - val_auc: 0.9290\n",
            "Epoch 7/30\n",
            " 0/58 [..............................] - ETA: 0s - loss: 0.0642 - auc: 0.9533\n",
            "Epoch 7: saving model to model_checkpoints/lite_model-0.90-007.h5\n",
            "58/58 [==============================] - 10s 168ms/sample - loss: 0.0642 - auc: 0.9533 - val_loss: 0.0952 - val_auc: 0.9015\n",
            "Epoch 8/30\n",
            " 0/58 [..............................] - ETA: 0s - loss: 0.0617 - auc: 0.9548\n",
            "Epoch 8: saving model to model_checkpoints/lite_model-0.90-008.h5\n",
            "58/58 [==============================] - 10s 168ms/sample - loss: 0.0617 - auc: 0.9548 - val_loss: 0.1014 - val_auc: 0.8987\n",
            "Epoch 9/30\n",
            " 0/58 [..............................] - ETA: 0s - loss: 0.0602 - auc: 0.9555\n",
            "Epoch 9: saving model to model_checkpoints/lite_model-0.94-009.h5\n",
            "58/58 [==============================] - 10s 166ms/sample - loss: 0.0602 - auc: 0.9555 - val_loss: 0.0734 - val_auc: 0.9376\n",
            "Epoch 10/30\n",
            " 0/58 [..............................] - ETA: 0s - loss: 0.0570 - auc: 0.9616\n",
            "Epoch 10: saving model to model_checkpoints/lite_model-0.95-010.h5\n",
            "58/58 [==============================] - 10s 166ms/sample - loss: 0.0570 - auc: 0.9616 - val_loss: 0.0729 - val_auc: 0.9459\n",
            "Epoch 11/30\n",
            " 0/58 [..............................] - ETA: 0s - loss: 0.0554 - auc: 0.9654\n",
            "Epoch 11: saving model to model_checkpoints/lite_model-0.95-011.h5\n",
            "58/58 [==============================] - 10s 166ms/sample - loss: 0.0554 - auc: 0.9654 - val_loss: 0.0690 - val_auc: 0.9457\n",
            "Epoch 12/30\n",
            " 0/58 [..............................] - ETA: 0s - loss: 0.0470 - auc: 0.9736\n",
            "Epoch 12: saving model to model_checkpoints/lite_model-0.95-012.h5\n",
            "58/58 [==============================] - 10s 165ms/sample - loss: 0.0470 - auc: 0.9736 - val_loss: 0.0723 - val_auc: 0.9490\n",
            "Epoch 13/30\n",
            " 0/58 [..............................] - ETA: 0s - loss: 0.0427 - auc: 0.9777\n",
            "Epoch 13: saving model to model_checkpoints/lite_model-0.92-013.h5\n",
            "58/58 [==============================] - 10s 166ms/sample - loss: 0.0427 - auc: 0.9777 - val_loss: 0.0737 - val_auc: 0.9245\n",
            "Epoch 14/30\n",
            " 0/58 [..............................] - ETA: 0s - loss: 0.0427 - auc: 0.9773\n",
            "Epoch 14: saving model to model_checkpoints/lite_model-0.93-014.h5\n",
            "58/58 [==============================] - 10s 166ms/sample - loss: 0.0427 - auc: 0.9773 - val_loss: 0.0757 - val_auc: 0.9254\n",
            "Epoch 15/30\n",
            " 0/58 [..............................] - ETA: 0s - loss: 0.0413 - auc: 0.9789\n",
            "Epoch 15: saving model to model_checkpoints/lite_model-0.95-015.h5\n",
            "58/58 [==============================] - 10s 165ms/sample - loss: 0.0413 - auc: 0.9789 - val_loss: 0.0714 - val_auc: 0.9508\n",
            "Epoch 16/30\n",
            " 0/58 [..............................] - ETA: 0s - loss: 0.0404 - auc: 0.9799\n",
            "Epoch 16: saving model to model_checkpoints/lite_model-0.92-016.h5\n",
            "58/58 [==============================] - 10s 166ms/sample - loss: 0.0404 - auc: 0.9799 - val_loss: 0.0724 - val_auc: 0.9249\n",
            "Epoch 17/30\n",
            " 0/58 [..............................] - ETA: 0s - loss: 0.0404 - auc: 0.9797\n",
            "Epoch 17: saving model to model_checkpoints/lite_model-0.93-017.h5\n",
            "58/58 [==============================] - 10s 166ms/sample - loss: 0.0404 - auc: 0.9797 - val_loss: 0.0686 - val_auc: 0.9276\n",
            "Epoch 18/30\n",
            " 0/58 [..............................] - ETA: 0s - loss: 0.0387 - auc: 0.9813\n",
            "Epoch 18: saving model to model_checkpoints/lite_model-0.93-018.h5\n",
            "58/58 [==============================] - 10s 166ms/sample - loss: 0.0387 - auc: 0.9813 - val_loss: 0.0777 - val_auc: 0.9286\n",
            "Epoch 19/30\n",
            " 0/58 [..............................] - ETA: 0s - loss: 0.0387 - auc: 0.9812\n",
            "Epoch 19: saving model to model_checkpoints/lite_model-0.95-019.h5\n",
            "58/58 [==============================] - 10s 166ms/sample - loss: 0.0387 - auc: 0.9812 - val_loss: 0.0704 - val_auc: 0.9526\n",
            "Epoch 20/30\n",
            " 0/58 [..............................] - ETA: 0s - loss: 0.0386 - auc: 0.9813\n",
            "Epoch 20: saving model to model_checkpoints/lite_model-0.93-020.h5\n",
            "58/58 [==============================] - 10s 166ms/sample - loss: 0.0386 - auc: 0.9813 - val_loss: 0.0725 - val_auc: 0.9289\n",
            "Epoch 21/30\n",
            " 0/58 [..............................] - ETA: 0s - loss: 0.0395 - auc: 0.9808\n",
            "Epoch 21: saving model to model_checkpoints/lite_model-0.93-021.h5\n",
            "58/58 [==============================] - 10s 166ms/sample - loss: 0.0395 - auc: 0.9808 - val_loss: 0.0700 - val_auc: 0.9285\n",
            "Epoch 22/30\n",
            " 0/58 [..............................] - ETA: 0s - loss: 0.0376 - auc: 0.9825\n",
            "Epoch 22: saving model to model_checkpoints/lite_model-0.90-022.h5\n",
            "58/58 [==============================] - 10s 166ms/sample - loss: 0.0376 - auc: 0.9825 - val_loss: 0.0727 - val_auc: 0.9014\n",
            "Epoch 23/30\n",
            " 0/58 [..............................] - ETA: 0s - loss: 0.0386 - auc: 0.9812\n",
            "Epoch 23: saving model to model_checkpoints/lite_model-0.93-023.h5\n",
            "58/58 [==============================] - 10s 167ms/sample - loss: 0.0386 - auc: 0.9812 - val_loss: 0.0723 - val_auc: 0.9274\n",
            "Epoch 24/30\n",
            " 0/58 [..............................] - ETA: 0s - loss: 0.0375 - auc: 0.9821\n",
            "Epoch 24: saving model to model_checkpoints/lite_model-0.93-024.h5\n",
            "58/58 [==============================] - 10s 166ms/sample - loss: 0.0375 - auc: 0.9821 - val_loss: 0.0708 - val_auc: 0.9259\n",
            "Epoch 25/30\n",
            " 0/58 [..............................] - ETA: 0s - loss: 0.0371 - auc: 0.9828\n",
            "Epoch 25: saving model to model_checkpoints/lite_model-0.93-025.h5\n",
            "58/58 [==============================] - 10s 166ms/sample - loss: 0.0371 - auc: 0.9828 - val_loss: 0.0698 - val_auc: 0.9261\n",
            "Epoch 26/30\n",
            " 0/58 [..............................] - ETA: 0s - loss: 0.0369 - auc: 0.9830\n",
            "Epoch 26: saving model to model_checkpoints/lite_model-0.95-026.h5\n",
            "58/58 [==============================] - 10s 166ms/sample - loss: 0.0369 - auc: 0.9830 - val_loss: 0.0667 - val_auc: 0.9517\n",
            "Epoch 27/30\n",
            " 0/58 [..............................] - ETA: 0s - loss: 0.0356 - auc: 0.9839\n",
            "Epoch 27: saving model to model_checkpoints/lite_model-0.93-027.h5\n",
            "58/58 [==============================] - 10s 166ms/sample - loss: 0.0356 - auc: 0.9839 - val_loss: 0.0743 - val_auc: 0.9288\n",
            "Epoch 28/30\n",
            " 0/58 [..............................] - ETA: 0s - loss: 0.0354 - auc: 0.9841\n",
            "Epoch 28: saving model to model_checkpoints/lite_model-0.93-028.h5\n",
            "58/58 [==============================] - 10s 166ms/sample - loss: 0.0354 - auc: 0.9841 - val_loss: 0.0698 - val_auc: 0.9268\n",
            "Epoch 29/30\n",
            " 0/58 [..............................] - ETA: 0s - loss: 0.0371 - auc: 0.9827\n",
            "Epoch 29: saving model to model_checkpoints/lite_model-0.95-029.h5\n",
            "58/58 [==============================] - 10s 166ms/sample - loss: 0.0371 - auc: 0.9827 - val_loss: 0.0674 - val_auc: 0.9493\n",
            "Epoch 30/30\n",
            " 0/58 [..............................] - ETA: 0s - loss: 0.0357 - auc: 0.9840\n",
            "Epoch 30: saving model to model_checkpoints/lite_model-0.90-030.h5\n",
            "58/58 [==============================] - 10s 165ms/sample - loss: 0.0357 - auc: 0.9840 - val_loss: 0.0709 - val_auc: 0.9034\n"
          ]
        }
      ],
      "source": [
        "print(\"\\n =========> Starting training\\n\")\n",
        "\n",
        "history = model.fit(\n",
        "    [train_data[\"points\"], train_data[\"features\"], train_data[\"mask\"], train_data[\"summary\"]], \n",
        "    train_label,\n",
        "    batch_size=batch_size,\n",
        "    epochs=epochs,\n",
        "    validation_data=([val_data[\"points\"], val_data[\"features\"], val_data[\"mask\"], val_data[\"summary\"]], val_label, val_weight),\n",
        "    shuffle=True,\n",
        "    sample_weight=train_weight,\n",
        "    callbacks=callbacks\n",
        ")"
      ]
    },
    {
      "cell_type": "markdown",
      "metadata": {
        "id": "qyXBjfEiU5gg"
      },
      "source": [
        "Training history visualization"
      ]
    },
    {
      "cell_type": "code",
      "execution_count": 17,
      "metadata": {
        "colab": {
          "base_uri": "https://localhost:8080/",
          "height": 296
        },
        "id": "4iRj96YWVCmA",
        "outputId": "9d28e95e-41d6-48e8-aa41-b1563694d46b"
      },
      "outputs": [
        {
          "output_type": "stream",
          "name": "stdout",
          "text": [
            " =========> Saved loss vs epoch\n"
          ]
        },
        {
          "output_type": "display_data",
          "data": {
            "text/plain": [
              "<Figure size 432x288 with 1 Axes>"
            ],
            "image/png": "[encoded data removed]"
          },
          "metadata": {
            "needs_background": "light"
          }
        }
      ],
      "source": [
        "#Train and validation Loss\n",
        "fig = plt.figure()\n",
        "plt.plot(history.history['loss'], label=\"Train Loss\")\n",
        "plt.plot(history.history['val_loss'], label=\"Validation Loss\")\n",
        "plt.xlabel(\"Epoch\")\n",
        "plt.legend()\n",
        "plt_name= \"loss_vs_epoch.png\"\n",
        "filepath_imm = os.path.join(images_dir, plt_name)\n",
        "fig.savefig(filepath_imm)\n",
        "print(\" =========> Saved loss vs epoch\")\n",
        "#plt.show()"
      ]
    },
    {
      "cell_type": "code",
      "execution_count": 18,
      "metadata": {
        "colab": {
          "base_uri": "https://localhost:8080/",
          "height": 296
        },
        "id": "e9woOsn-VDib",
        "outputId": "79fa9b73-5cab-4253-9a92-e722b17c17ba"
      },
      "outputs": [
        {
          "output_type": "stream",
          "name": "stdout",
          "text": [
            " =========> Saved auprc vs epoch\n"
          ]
        },
        {
          "output_type": "display_data",
          "data": {
            "text/plain": [
              "<Figure size 432x288 with 1 Axes>"
            ],
            "image/png": "[encoded data removed]"
          },
          "metadata": {
            "needs_background": "light"
          }
        }
      ],
      "source": [
        "#Train and validation AUPRC\n",
        "fig = plt.figure()\n",
        "plt.plot(history.history['auc'], label=\"Train AUPRC\")\n",
        "plt.plot(history.history['val_auc'], label=\"Validation AUPRC\")\n",
        "plt.xlabel(\"Epoch\")\n",
        "plt.legend()\n",
        "plt_name= \"auprc_vs_epoch.png\"\n",
        "filepath_imm = os.path.join(images_dir, plt_name)\n",
        "fig.savefig(filepath_imm)\n",
        "print(\" =========> Saved auprc vs epoch\")"
      ]
    },
    {
      "cell_type": "markdown",
      "metadata": {
        "id": "WhznYYgiVaKw"
      },
      "source": [
        "The network weights frrom the best model are retreived"
      ]
    },
    {
      "cell_type": "code",
      "execution_count": 19,
      "metadata": {
        "colab": {
          "base_uri": "https://localhost:8080/"
        },
        "id": "-GgWSJeGViUK",
        "outputId": "c6236afc-6371-40ef-da42-e99110e85b0b"
      },
      "outputs": [
        {
          "output_type": "stream",
          "name": "stdout",
          "text": [
            "model_checkpoints/lite_model-0.95-029.h5\n"
          ]
        }
      ],
      "source": [
        "# Select the model with the best val_auc (save_best_only=True in ModelCheckpoint not working)\n",
        "! ls -1 model_checkpoints/*model*.h5 | sort -n | tail -n 1\n",
        "!cp $(ls -1 model_checkpoints/*model*.h5 | sort -n | tail -n 1) model_checkpoints/last.h5"
      ]
    },
    {
      "cell_type": "code",
      "execution_count": 20,
      "metadata": {
        "colab": {
          "base_uri": "https://localhost:8080/",
          "height": 314
        },
        "id": "_drT74y-Vn1P",
        "outputId": "13b03c6a-acbd-4804-e0b4-1e0f7e02d44e"
      },
      "outputs": [
        {
          "output_type": "stream",
          "name": "stdout",
          "text": [
            " =========> Best area under precision-recall curve:  0.973847700175031\n",
            " =========> Saved best auprc\n"
          ]
        },
        {
          "output_type": "display_data",
          "data": {
            "text/plain": [
              "<Figure size 432x288 with 1 Axes>"
            ],
            "image/png": "[encoded data removed]"
          },
          "metadata": {
            "needs_background": "light"
          }
        }
      ],
      "source": [
        "model.load_weights(\"model_checkpoints/last.h5\")\n",
        "probs = model.predict_on_batch(test_data)\n",
        "\n",
        "precision, recall, thresholds = precision_recall_curve(test_label, probs, sample_weight=test_weight)\n",
        "\n",
        "fig = plt.figure()\n",
        "plt.plot(recall, precision)\n",
        "plt.xlabel(\"Recall\")\n",
        "plt.ylabel(\"Precision\")\n",
        "print(\" =========> Best area under precision-recall curve: \", auc(recall, precision))\n",
        "plt_name= \"best_auprc.png\"\n",
        "filepath_imm = os.path.join(images_dir, plt_name)\n",
        "plt.savefig(filepath_imm)\n",
        "print(\" =========> Saved best auprc\")"
      ]
    },
    {
      "cell_type": "markdown",
      "metadata": {
        "id": "50x5S1b6hI8T"
      },
      "source": [
        "Looking at energy histogram"
      ]
    },
    {
      "cell_type": "code",
      "execution_count": 21,
      "metadata": {
        "colab": {
          "base_uri": "https://localhost:8080/",
          "height": 296
        },
        "id": "Q37XjenQiuX0",
        "outputId": "51cf3fda-6e2c-4638-8f6c-85b9928814ce"
      },
      "outputs": [
        {
          "output_type": "stream",
          "name": "stdout",
          "text": [
            " =========> Saved energy histogram\n"
          ]
        },
        {
          "output_type": "display_data",
          "data": {
            "text/plain": [
              "<Figure size 432x288 with 1 Axes>"
            ],
            "image/png": "[encoded data removed]"
          },
          "metadata": {
            "needs_background": "light"
          }
        }
      ],
      "source": [
        "bin = model.predict(test_data)\n",
        "bin_sig = bin[test_label == 1][:, 0]\n",
        "bin_bkg = bin[test_label == 0][:, 0]\n",
        "weight_sig = test_weight[test_label == 1]\n",
        "weight_bkg = test_weight[test_label == 0]\n",
        "\n",
        "test_virgin_data = {key: virgin_data[key][int(N*0.7) : int(N*0.9)] for key in name_map}\n",
        "\n",
        "en = test_virgin_data[\"summary\"][:, 0]\n",
        "en_sig = en[test_label == 1]\n",
        "en_bkg = en[test_label == 0]\n",
        "\n",
        "fig = plt.figure()\n",
        "plt.hist(en_sig, range=(50, 100), bins=50, weights=weight_sig * bin_sig, color=\"blue\")\n",
        "plt.hist(en_bkg, range=(50, 100), bins=50, weights=weight_bkg * bin_bkg, color=\"red\")\n",
        "\n",
        "plt.xlabel(\"Photon energy [MeV]\")\n",
        "plt.ylabel(\"Entries\")\n",
        "\n",
        "plt_name = \"energy_histo.png\"\n",
        "filepath_imm = os.path.join(images_dir, plt_name)\n",
        "fig.savefig(filepath_imm)\n",
        "print(\" =========> Saved energy histogram\")"
      ]
    },
    {
      "cell_type": "code",
      "source": [
        "#Uncomment to save locally the plots shown in Colab\n",
        "\n",
        "#from google.colab import files\n",
        "#!zip -r ./images.zip ./images\n",
        "#files.download('./images.zip')"
      ],
      "metadata": {
        "colab": {
          "base_uri": "https://localhost:8080/",
          "height": 156
        },
        "id": "3QP-9J1QzrJV",
        "outputId": "b0618588-0cee-4a16-c128-3f88beb4ff56"
      },
      "execution_count": 22,
      "outputs": [
        {
          "output_type": "stream",
          "name": "stdout",
          "text": [
            "  adding: images/ (stored 0%)\n",
            "  adding: images/10_min-bias_events.png (deflated 17%)\n",
            "  adding: images/loss_vs_epoch.png (deflated 7%)\n",
            "  adding: images/energy_histo.png (deflated 13%)\n",
            "  adding: images/10_signal_events.png (deflated 17%)\n",
            "  adding: images/auprc_vs_epoch.png (deflated 5%)\n",
            "  adding: images/best_auprc.png (deflated 11%)\n",
            "  adding: images/10_cosmic_events.png (deflated 15%)\n"
          ]
        },
        {
          "output_type": "display_data",
          "data": {
            "text/plain": [
              "<IPython.core.display.Javascript object>"
            ],
            "application/javascript": [
              "\n",
              "    async function download(id, filename, size) {\n",
              "      if (!google.colab.kernel.accessAllowed) {\n",
              "        return;\n",
              "      }\n",
              "      const div = document.createElement('div');\n",
              "      const label = document.createElement('label');\n",
              "      label.textContent = `Downloading \"${filename}\": `;\n",
              "      div.appendChild(label);\n",
              "      const progress = document.createElement('progress');\n",
              "      progress.max = size;\n",
              "      div.appendChild(progress);\n",
              "      document.body.appendChild(div);\n",
              "\n",
              "      const buffers = [];\n",
              "      let downloaded = 0;\n",
              "\n",
              "      const channel = await google.colab.kernel.comms.open(id);\n",
              "      // Send a message to notify the kernel that we're ready.\n",
              "      channel.send({})\n",
              "\n",
              "      for await (const message of channel.messages) {\n",
              "        // Send a message to notify the kernel that we're ready.\n",
              "        channel.send({})\n",
              "        if (message.buffers) {\n",
              "          for (const buffer of message.buffers) {\n",
              "            buffers.push(buffer);\n",
              "            downloaded += buffer.byteLength;\n",
              "            progress.value = downloaded;\n",
              "          }\n",
              "        }\n",
              "      }\n",
              "      const blob = new Blob(buffers, {type: 'application/binary'});\n",
              "      const a = document.createElement('a');\n",
              "      a.href = window.URL.createObjectURL(blob);\n",
              "      a.download = filename;\n",
              "      div.appendChild(a);\n",
              "      a.click();\n",
              "      div.remove();\n",
              "    }\n",
              "  "
            ]
          },
          "metadata": {}
        },
        {
          "output_type": "display_data",
          "data": {
            "text/plain": [
              "<IPython.core.display.Javascript object>"
            ],
            "application/javascript": [
              "download(\"download_80ea26ac-577c-4852-935c-1a2f54857dd8\", \"images.zip\", 131640)"
            ]
          },
          "metadata": {}
        }
      ]
    }
  ],
  "metadata": {
    "accelerator": "GPU",
    "colab": {
      "name": "PNet_RMC_main.ipynb",
      "provenance": [],
      "include_colab_link": true
    },
    "gpuClass": "standard",
    "kernelspec": {
      "display_name": "Python 3",
      "name": "python3"
    },
    "language_info": {
      "name": "python"
    }
  },
  "nbformat": 4,
  "nbformat_minor": 0
}